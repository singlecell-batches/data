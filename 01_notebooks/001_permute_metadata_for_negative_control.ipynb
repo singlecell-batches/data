{
 "cells": [
  {
   "cell_type": "code",
   "execution_count": 10,
   "metadata": {
    "collapsed": true
   },
   "outputs": [],
   "source": [
    "import pandas as pd\n",
    "import numpy as np"
   ]
  },
  {
   "cell_type": "code",
   "execution_count": 1,
   "metadata": {},
   "outputs": [
    {
     "name": "stdout",
     "output_type": "stream",
     "text": [
      "Data folder for notebook: ../00_data/001_permute_metadata_for_negative_control\n",
      "Figure folder for notebook: ../04_figures/001_permute_metadata_for_negative_control\n"
     ]
    }
   ],
   "source": [
    "import os\n",
    "\n",
    "DATA_FOLDER = '../00_data'\n",
    "FIGURE_FOLDER = '../04_figures'\n",
    "\n",
    "notebook_name = '001_permute_metadata_for_negative_control'\n",
    "\n",
    "data_folder = os.path.join(DATA_FOLDER, notebook_name)\n",
    "figure_folder = os.path.join(FIGURE_FOLDER, notebook_name)\n",
    "\n",
    "print('Data folder for notebook:', data_folder)\n",
    "print('Figure folder for notebook:', figure_folder)\n",
    "\n",
    "! mkdir -p $figure_folder\n",
    "! mkdir -p $data_folder"
   ]
  },
  {
   "cell_type": "markdown",
   "metadata": {},
   "source": [
    "## Read counts for random 10% subset"
   ]
  },
  {
   "cell_type": "code",
   "execution_count": 6,
   "metadata": {},
   "outputs": [
    {
     "name": "stdout",
     "output_type": "stream",
     "text": [
      "total 325560\r\n",
      "-rw-r--r--  1 olgabot  staff   155M Sep 25 15:22 10percentCellSubset_allgenes.csv\r\n",
      "-rw-r--r--  1 olgabot  staff   4.1M Sep 25 15:22 10percentCellSubset_allgenes.csv.zip\r\n",
      "-rw-r--r--  1 olgabot  staff    17K Sep 25 15:22 10percentCellSubset_meta.csv\r\n",
      "-rw-r--r--  1 olgabot  staff   6.7K Sep 25 15:22 10percentCellSubset_meta.csv.zip\r\n",
      "-rw-r--r--  1 olgabot  staff   106K Sep 25 15:22 AllCells_metadata.csv\r\n",
      "-rw-r--r--  1 olgabot  staff    29K Sep 25 15:22 AllCells_metadata.csv.zip\r\n"
     ]
    }
   ],
   "source": [
    "input_folder = os.path.join(DATA_FOLDER, '000_make_csv_gzips')\n",
    "! ls -lh $input_folder"
   ]
  },
  {
   "cell_type": "code",
   "execution_count": 8,
   "metadata": {},
   "outputs": [
    {
     "name": "stdout",
     "output_type": "stream",
     "text": [
      "(1330, 2)\n"
     ]
    },
    {
     "data": {
      "text/html": [
       "<div>\n",
       "<table border=\"1\" class=\"dataframe\">\n",
       "  <thead>\n",
       "    <tr style=\"text-align: right;\">\n",
       "      <th></th>\n",
       "      <th>Cell</th>\n",
       "      <th>Batch</th>\n",
       "    </tr>\n",
       "  </thead>\n",
       "  <tbody>\n",
       "    <tr>\n",
       "      <th>c699</th>\n",
       "      <td>699</td>\n",
       "      <td>1</td>\n",
       "    </tr>\n",
       "    <tr>\n",
       "      <th>c996</th>\n",
       "      <td>996</td>\n",
       "      <td>1</td>\n",
       "    </tr>\n",
       "    <tr>\n",
       "      <th>c585</th>\n",
       "      <td>585</td>\n",
       "      <td>1</td>\n",
       "    </tr>\n",
       "    <tr>\n",
       "      <th>c26</th>\n",
       "      <td>26</td>\n",
       "      <td>1</td>\n",
       "    </tr>\n",
       "    <tr>\n",
       "      <th>c348</th>\n",
       "      <td>348</td>\n",
       "      <td>1</td>\n",
       "    </tr>\n",
       "  </tbody>\n",
       "</table>\n",
       "</div>"
      ],
      "text/plain": [
       "      Cell  Batch\n",
       "c699   699      1\n",
       "c996   996      1\n",
       "c585   585      1\n",
       "c26     26      1\n",
       "c348   348      1"
      ]
     },
     "execution_count": 8,
     "metadata": {},
     "output_type": "execute_result"
    }
   ],
   "source": [
    "csv = os.path.join(input_folder, '10percentCellSubset_meta.csv.zip')\n",
    "metadata_10percent = pd.read_csv(csv, index_col=0)\n",
    "print(metadata_10percent.shape)\n",
    "metadata_10percent.head()"
   ]
  },
  {
   "cell_type": "markdown",
   "metadata": {},
   "source": [
    "## Permute metadata for 10% subset\n",
    "\n",
    "Shuffle the batch permutation labels for a negative control. If the batch effect correction algorithm still \"works\" with the negative control, then we know something is wrong."
   ]
  },
  {
   "cell_type": "code",
   "execution_count": 11,
   "metadata": {},
   "outputs": [
    {
     "data": {
      "text/html": [
       "<div>\n",
       "<table border=\"1\" class=\"dataframe\">\n",
       "  <thead>\n",
       "    <tr style=\"text-align: right;\">\n",
       "      <th></th>\n",
       "      <th>Cell</th>\n",
       "      <th>Batch</th>\n",
       "      <th>Batch_permuted</th>\n",
       "    </tr>\n",
       "  </thead>\n",
       "  <tbody>\n",
       "    <tr>\n",
       "      <th>c699</th>\n",
       "      <td>699</td>\n",
       "      <td>1</td>\n",
       "      <td>6</td>\n",
       "    </tr>\n",
       "    <tr>\n",
       "      <th>c996</th>\n",
       "      <td>996</td>\n",
       "      <td>1</td>\n",
       "      <td>3</td>\n",
       "    </tr>\n",
       "    <tr>\n",
       "      <th>c585</th>\n",
       "      <td>585</td>\n",
       "      <td>1</td>\n",
       "      <td>3</td>\n",
       "    </tr>\n",
       "    <tr>\n",
       "      <th>c26</th>\n",
       "      <td>26</td>\n",
       "      <td>1</td>\n",
       "      <td>3</td>\n",
       "    </tr>\n",
       "    <tr>\n",
       "      <th>c348</th>\n",
       "      <td>348</td>\n",
       "      <td>1</td>\n",
       "      <td>4</td>\n",
       "    </tr>\n",
       "  </tbody>\n",
       "</table>\n",
       "</div>"
      ],
      "text/plain": [
       "      Cell  Batch  Batch_permuted\n",
       "c699   699      1               6\n",
       "c996   996      1               3\n",
       "c585   585      1               3\n",
       "c26     26      1               3\n",
       "c348   348      1               4"
      ]
     },
     "execution_count": 11,
     "metadata": {},
     "output_type": "execute_result"
    }
   ],
   "source": [
    "np.random.seed(0)\n",
    "\n",
    "metadata_10percent['Batch_permuted'] = np.random.permutation(metadata_10percent['Batch'])\n",
    "metadata_10percent.head()"
   ]
  },
  {
   "cell_type": "code",
   "execution_count": 12,
   "metadata": {},
   "outputs": [
    {
     "name": "stdout",
     "output_type": "stream",
     "text": [
      "-rw-r--r--  1 olgabot  staff    20K Sep 27 10:44 ../00_data/001_permute_metadata_for_negative_control/10percentCellSubset_meta_permuted.csv\r\n"
     ]
    }
   ],
   "source": [
    "csv = os.path.join(data_folder, '10percentCellSubset_meta_permuted.csv')\n",
    "metadata_10percent.to_csv(csv)\n",
    "! ls -lh $csv"
   ]
  },
  {
   "cell_type": "code",
   "execution_count": 13,
   "metadata": {},
   "outputs": [
    {
     "name": "stdout",
     "output_type": "stream",
     "text": [
      "  adding: ../00_data/001_permute_metadata_for_negative_control/10percentCellSubset_meta_permuted.csv (deflated 64%)\r\n"
     ]
    }
   ],
   "source": [
    "import glob\n",
    "\n",
    "csvs = glob.glob(os.path.join(data_folder, '*.csv'))\n",
    "for csv in csvs:\n",
    "    ! zip $csv\\.zip $csv"
   ]
  },
  {
   "cell_type": "code",
   "execution_count": 15,
   "metadata": {},
   "outputs": [
    {
     "name": "stdout",
     "output_type": "stream",
     "text": [
      "total 56\r\n",
      "-rw-r--r--  1 olgabot  staff    20K Sep 27 10:44 10percentCellSubset_meta_permuted.csv\r\n",
      "-rw-r--r--  1 olgabot  staff   7.5K Sep 27 10:44 10percentCellSubset_meta_permuted.csv.zip\r\n"
     ]
    }
   ],
   "source": [
    "ls -lh $data_folder"
   ]
  },
  {
   "cell_type": "code",
   "execution_count": null,
   "metadata": {
    "collapsed": true
   },
   "outputs": [],
   "source": []
  }
 ],
 "metadata": {
  "kernelspec": {
   "display_name": "Python 3",
   "language": "python",
   "name": "python3"
  },
  "language_info": {
   "codemirror_mode": {
    "name": "ipython",
    "version": 3
   },
   "file_extension": ".py",
   "mimetype": "text/x-python",
   "name": "python",
   "nbconvert_exporter": "python",
   "pygments_lexer": "ipython3",
   "version": "3.5.2"
  }
 },
 "nbformat": 4,
 "nbformat_minor": 2
}
