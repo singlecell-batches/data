{
 "cells": [
  {
   "cell_type": "code",
   "execution_count": 1,
   "metadata": {},
   "outputs": [
    {
     "name": "stdout",
     "output_type": "stream",
     "text": [
      "Data folder for notebook: ../00_data/005_filter_genes\n",
      "Figure folder for notebook: ../04_figures/005_filter_genes\n"
     ]
    }
   ],
   "source": [
    "import os\n",
    "\n",
    "DATA_FOLDER = '../00_data'\n",
    "FIGURE_FOLDER = '../04_figures'\n",
    "\n",
    "notebook_name = '005_filter_genes'\n",
    "\n",
    "data_folder = os.path.join(DATA_FOLDER, notebook_name)\n",
    "figure_folder = os.path.join(FIGURE_FOLDER, notebook_name)\n",
    "\n",
    "print('Data folder for notebook:', data_folder)\n",
    "print('Figure folder for notebook:', figure_folder)\n",
    "\n",
    "! mkdir -p $figure_folder\n",
    "! mkdir -p $data_folder"
   ]
  },
  {
   "cell_type": "code",
   "execution_count": 2,
   "metadata": {
    "collapsed": true
   },
   "outputs": [],
   "source": [
    "# Numerical python\n",
    "import numpy as np\n",
    "\n",
    "# Pandas for dataframes\n",
    "import pandas as pd\n",
    "\n",
    "# Labeled N-dimensional arrays\n",
    "import xarray as xr"
   ]
  },
  {
   "cell_type": "code",
   "execution_count": 3,
   "metadata": {
    "collapsed": true
   },
   "outputs": [],
   "source": [
    "%matplotlib inline"
   ]
  },
  {
   "cell_type": "code",
   "execution_count": 4,
   "metadata": {},
   "outputs": [
    {
     "name": "stdout",
     "output_type": "stream",
     "text": [
      "total 12234632\r\n",
      "-rw-r--r--  1 olgabot  staff   5.8G Sep 29 17:17 cshl-fibroblast.netcdf\r\n"
     ]
    }
   ],
   "source": [
    "input_folder = os.path.join(DATA_FOLDER, '003_make_combined_singlecell_fibroblast_datasets')\n",
    "! ls -lh $input_folder"
   ]
  },
  {
   "cell_type": "code",
   "execution_count": 5,
   "metadata": {},
   "outputs": [
    {
     "name": "stdout",
     "output_type": "stream",
     "text": [
      "CPU times: user 68.5 ms, sys: 28.7 ms, total: 97.2 ms\n",
      "Wall time: 163 ms\n"
     ]
    }
   ],
   "source": [
    "netcdf = os.path.join(input_folder, 'cshl-fibroblast.netcdf')\n",
    "%time ds = xr.open_dataset(netcdf)"
   ]
  },
  {
   "cell_type": "code",
   "execution_count": 6,
   "metadata": {},
   "outputs": [
    {
     "data": {
      "text/plain": [
       "<xarray.Dataset>\n",
       "Dimensions:         (cell: 13300, gene: 58828)\n",
       "Coordinates:\n",
       "    group           (cell) object 'group1' 'group1' 'group1' 'group1' ...\n",
       "    cell_number     (cell) object 'c1' 'c2' 'c3' 'c4' 'c5' 'c6' 'c7' 'c8' ...\n",
       "    group_permuted  (cell) object 'group3' 'group3' 'group2' 'group3' ...\n",
       "  * gene            (gene) object '5S_rRNA' '5_8S_rRNA' '7SK' 'A1BG' ...\n",
       "  * cell            (cell) object 'group1_0000' 'group1_0001' 'group1_0002' ...\n",
       "Data variables:\n",
       "    counts          (cell, gene) int64 0 0 0 0 0 0 0 0 0 0 0 0 0 0 0 0 0 0 0 ..."
      ]
     },
     "execution_count": 6,
     "metadata": {},
     "output_type": "execute_result"
    }
   ],
   "source": [
    "ds"
   ]
  },
  {
   "cell_type": "code",
   "execution_count": 7,
   "metadata": {
    "scrolled": false
   },
   "outputs": [
    {
     "data": {
      "text/plain": [
       "['T',\n",
       " '_Dataset__default_attrs',\n",
       " '__abs__',\n",
       " '__abstractmethods__',\n",
       " '__add__',\n",
       " '__and__',\n",
       " '__array_priority__',\n",
       " '__class__',\n",
       " '__contains__',\n",
       " '__copy__',\n",
       " '__deepcopy__',\n",
       " '__delattr__',\n",
       " '__delitem__',\n",
       " '__dict__',\n",
       " '__dir__',\n",
       " '__div__',\n",
       " '__doc__',\n",
       " '__enter__',\n",
       " '__eq__',\n",
       " '__exit__',\n",
       " '__floordiv__',\n",
       " '__format__',\n",
       " '__ge__',\n",
       " '__getattr__',\n",
       " '__getattribute__',\n",
       " '__getitem__',\n",
       " '__gt__',\n",
       " '__hash__',\n",
       " '__iadd__',\n",
       " '__iand__',\n",
       " '__ifloordiv__',\n",
       " '__imod__',\n",
       " '__imul__',\n",
       " '__init__',\n",
       " '__init_subclass__',\n",
       " '__invert__',\n",
       " '__ior__',\n",
       " '__ipow__',\n",
       " '__isub__',\n",
       " '__iter__',\n",
       " '__itruediv__',\n",
       " '__ixor__',\n",
       " '__le__',\n",
       " '__len__',\n",
       " '__lt__',\n",
       " '__mod__',\n",
       " '__module__',\n",
       " '__mul__',\n",
       " '__ne__',\n",
       " '__neg__',\n",
       " '__new__',\n",
       " '__or__',\n",
       " '__pos__',\n",
       " '__pow__',\n",
       " '__radd__',\n",
       " '__rand__',\n",
       " '__reduce__',\n",
       " '__reduce_ex__',\n",
       " '__repr__',\n",
       " '__reversed__',\n",
       " '__rfloordiv__',\n",
       " '__rmod__',\n",
       " '__rmul__',\n",
       " '__ror__',\n",
       " '__rpow__',\n",
       " '__rsub__',\n",
       " '__rtruediv__',\n",
       " '__rxor__',\n",
       " '__setattr__',\n",
       " '__setitem__',\n",
       " '__sizeof__',\n",
       " '__slots__',\n",
       " '__str__',\n",
       " '__sub__',\n",
       " '__subclasshook__',\n",
       " '__truediv__',\n",
       " '__unicode__',\n",
       " '__weakref__',\n",
       " '__xor__',\n",
       " '_abc_cache',\n",
       " '_abc_negative_cache',\n",
       " '_abc_negative_cache_version',\n",
       " '_abc_registry',\n",
       " '_all_compat',\n",
       " '_assert_all_in_dataset',\n",
       " '_attr_sources',\n",
       " '_attrs_copy',\n",
       " '_binary_op',\n",
       " '_calc_assign_results',\n",
       " '_calculate_binary_op',\n",
       " '_construct_dataarray',\n",
       " '_construct_direct',\n",
       " '_copy_attrs_from',\n",
       " '_copy_listed',\n",
       " '_cum_extra_args_docstring',\n",
       " '_drop_vars',\n",
       " '_from_vars_and_coord_names',\n",
       " '_groupby_cls',\n",
       " '_initialized',\n",
       " '_inplace_binary_op',\n",
       " '_level_coords',\n",
       " '_persist_inplace',\n",
       " '_reduce_extra_args_docstring',\n",
       " '_reduce_method',\n",
       " '_replace_indexes',\n",
       " '_replace_vars_and_dims',\n",
       " '_rolling_cls',\n",
       " '_set_init_vars_and_dims',\n",
       " '_stack_once',\n",
       " '_subset_with_all_valid_coords',\n",
       " '_to_dataframe',\n",
       " '_unary_op',\n",
       " '_where',\n",
       " 'all',\n",
       " 'any',\n",
       " 'apply',\n",
       " 'argmax',\n",
       " 'argmin',\n",
       " 'argsort',\n",
       " 'assign',\n",
       " 'assign_attrs',\n",
       " 'assign_coords',\n",
       " 'astype',\n",
       " 'attrs',\n",
       " 'broadcast_equals',\n",
       " 'cell',\n",
       " 'cell_number',\n",
       " 'chunk',\n",
       " 'chunks',\n",
       " 'clip',\n",
       " 'close',\n",
       " 'combine_first',\n",
       " 'compute',\n",
       " 'conj',\n",
       " 'conjugate',\n",
       " 'coords',\n",
       " 'copy',\n",
       " 'count',\n",
       " 'counts',\n",
       " 'cumprod',\n",
       " 'cumsum',\n",
       " 'data_vars',\n",
       " 'diff',\n",
       " 'dims',\n",
       " 'drop',\n",
       " 'dropna',\n",
       " 'dump_to_store',\n",
       " 'encoding',\n",
       " 'equals',\n",
       " 'expand_dims',\n",
       " 'fillna',\n",
       " 'filter_by_attrs',\n",
       " 'from_dataframe',\n",
       " 'from_dict',\n",
       " 'gene',\n",
       " 'get',\n",
       " 'get_index',\n",
       " 'group',\n",
       " 'group_permuted',\n",
       " 'groupby',\n",
       " 'groupby_bins',\n",
       " 'identical',\n",
       " 'imag',\n",
       " 'indexes',\n",
       " 'info',\n",
       " 'isel',\n",
       " 'isel_points',\n",
       " 'isnull',\n",
       " 'items',\n",
       " 'keys',\n",
       " 'load',\n",
       " 'load_store',\n",
       " 'loc',\n",
       " 'max',\n",
       " 'mean',\n",
       " 'median',\n",
       " 'merge',\n",
       " 'min',\n",
       " 'nbytes',\n",
       " 'notnull',\n",
       " 'persist',\n",
       " 'pipe',\n",
       " 'prod',\n",
       " 'quantile',\n",
       " 'real',\n",
       " 'reduce',\n",
       " 'reindex',\n",
       " 'reindex_like',\n",
       " 'rename',\n",
       " 'reorder_levels',\n",
       " 'resample',\n",
       " 'reset_coords',\n",
       " 'reset_index',\n",
       " 'roll',\n",
       " 'rolling',\n",
       " 'round',\n",
       " 'sel',\n",
       " 'sel_points',\n",
       " 'set_coords',\n",
       " 'set_index',\n",
       " 'shift',\n",
       " 'sizes',\n",
       " 'sortby',\n",
       " 'squeeze',\n",
       " 'stack',\n",
       " 'std',\n",
       " 'sum',\n",
       " 'swap_dims',\n",
       " 'to_array',\n",
       " 'to_dataframe',\n",
       " 'to_dict',\n",
       " 'to_netcdf',\n",
       " 'transpose',\n",
       " 'unstack',\n",
       " 'update',\n",
       " 'values',\n",
       " 'var',\n",
       " 'variables',\n",
       " 'where']"
      ]
     },
     "execution_count": 7,
     "metadata": {},
     "output_type": "execute_result"
    }
   ],
   "source": [
    "dir(ds)"
   ]
  },
  {
   "cell_type": "code",
   "execution_count": 8,
   "metadata": {},
   "outputs": [
    {
     "data": {
      "text/plain": [
       "<bound method ImplementsDatasetReduce._reduce_method.<locals>.wrapped_func of <xarray.Dataset>\n",
       "Dimensions:         (cell: 13300, gene: 58828)\n",
       "Coordinates:\n",
       "    group           (cell) object 'group1' 'group1' 'group1' 'group1' ...\n",
       "    cell_number     (cell) object 'c1' 'c2' 'c3' 'c4' 'c5' 'c6' 'c7' 'c8' ...\n",
       "    group_permuted  (cell) object 'group3' 'group3' 'group2' 'group3' ...\n",
       "  * gene            (gene) object '5S_rRNA' '5_8S_rRNA' '7SK' 'A1BG' ...\n",
       "  * cell            (cell) object 'group1_0000' 'group1_0001' 'group1_0002' ...\n",
       "Data variables:\n",
       "    counts          (cell, gene) int64 0 0 0 0 0 0 0 0 0 0 0 0 0 0 0 0 0 0 0 ...>"
      ]
     },
     "execution_count": 8,
     "metadata": {},
     "output_type": "execute_result"
    }
   ],
   "source": [
    "ds.var"
   ]
  },
  {
   "cell_type": "code",
   "execution_count": 9,
   "metadata": {},
   "outputs": [
    {
     "data": {
      "text/plain": [
       "Frozen(OrderedDict([('counts', <xarray.Variable (cell: 13300, gene: 58828)>\n",
       "array([[0, 0, 0, ..., 0, 0, 0],\n",
       "       [0, 0, 0, ..., 0, 0, 0],\n",
       "       [0, 0, 0, ..., 0, 0, 0],\n",
       "       ..., \n",
       "       [0, 0, 0, ..., 0, 0, 0],\n",
       "       [0, 0, 0, ..., 0, 0, 0],\n",
       "       [0, 0, 0, ..., 0, 0, 0]])), ('group', <xarray.Variable (cell: 13300)>\n",
       "array(['group1', 'group1', 'group1', ..., 'group8', 'group8', 'group8'], dtype=object)), ('cell_number', <xarray.Variable (cell: 13300)>\n",
       "array(['c1', 'c2', 'c3', ..., 'c13298', 'c13299', 'c13300'], dtype=object)), ('group_permuted', <xarray.Variable (cell: 13300)>\n",
       "array(['group3', 'group3', 'group2', ..., 'group4', 'group4', 'group3'], dtype=object)), ('gene', <xarray.IndexVariable 'gene' (gene: 58828)>\n",
       "array(['5S_rRNA', '5_8S_rRNA', '7SK', ..., 'snosnR66', 'uc_338', 'yR211F11.2'], dtype=object)), ('cell', <xarray.IndexVariable 'cell' (cell: 13300)>\n",
       "array(['group1_0000', 'group1_0001', 'group1_0002', ..., 'group8_0797',\n",
       "       'group8_0798', 'group8_0799'], dtype=object))]))"
      ]
     },
     "execution_count": 9,
     "metadata": {},
     "output_type": "execute_result"
    }
   ],
   "source": [
    "ds.variablesables"
   ]
  },
  {
   "cell_type": "code",
   "execution_count": null,
   "metadata": {
    "collapsed": true
   },
   "outputs": [],
   "source": []
  },
  {
   "cell_type": "code",
   "execution_count": 31,
   "metadata": {},
   "outputs": [
    {
     "data": {
      "text/plain": [
       "<xarray.DataArray 'counts' (cell: 13300, gene: 58828)>\n",
       "array([[ True,  True,  True, ...,  True,  True,  True],\n",
       "       [ True,  True,  True, ...,  True,  True,  True],\n",
       "       [ True,  True,  True, ...,  True,  True,  True],\n",
       "       ..., \n",
       "       [ True,  True,  True, ...,  True,  True,  True],\n",
       "       [ True,  True,  True, ...,  True,  True,  True],\n",
       "       [ True,  True,  True, ...,  True,  True,  True]], dtype=bool)\n",
       "Coordinates:\n",
       "    group           (cell) object 'group1' 'group1' 'group1' 'group1' ...\n",
       "    cell_number     (cell) object 'c1' 'c2' 'c3' 'c4' 'c5' 'c6' 'c7' 'c8' ...\n",
       "    group_permuted  (cell) object 'group3' 'group3' 'group2' 'group3' ...\n",
       "  * gene            (gene) object '5S_rRNA' '5_8S_rRNA' '7SK' 'A1BG' ...\n",
       "  * cell            (cell) object 'group1_0000' 'group1_0001' 'group1_0002' ..."
      ]
     },
     "execution_count": 31,
     "metadata": {},
     "output_type": "execute_result"
    }
   ],
   "source": [
    "counts0 = ds.counts == 0\n",
    "counts0"
   ]
  },
  {
   "cell_type": "code",
   "execution_count": 32,
   "metadata": {},
   "outputs": [
    {
     "data": {
      "text/plain": [
       "<xarray.DataArray 'counts' (gene: 58828)>\n",
       "array([ True,  True,  True, ...,  True,  True,  True], dtype=bool)\n",
       "Coordinates:\n",
       "  * gene     (gene) object '5S_rRNA' '5_8S_rRNA' '7SK' 'A1BG' 'A1BG-AS1' ..."
      ]
     },
     "execution_count": 32,
     "metadata": {},
     "output_type": "execute_result"
    }
   ],
   "source": [
    "~counts0.all(dim='cell')"
   ]
  },
  {
   "cell_type": "markdown",
   "metadata": {},
   "source": [
    "Remove genes that are 0 for all cells"
   ]
  },
  {
   "cell_type": "code",
   "execution_count": 33,
   "metadata": {},
   "outputs": [
    {
     "data": {
      "text/plain": [
       "<xarray.Dataset>\n",
       "Dimensions:         (cell: 13300, gene: 46243)\n",
       "Coordinates:\n",
       "    group           (cell) object 'group1' 'group1' 'group1' 'group1' ...\n",
       "    cell_number     (cell) object 'c1' 'c2' 'c3' 'c4' 'c5' 'c6' 'c7' 'c8' ...\n",
       "    group_permuted  (cell) object 'group3' 'group3' 'group2' 'group3' ...\n",
       "  * gene            (gene) object '5S_rRNA' '5_8S_rRNA' '7SK' 'A1BG' ...\n",
       "  * cell            (cell) object 'group1_0000' 'group1_0001' 'group1_0002' ...\n",
       "Data variables:\n",
       "    counts          (cell, gene) int64 0 0 0 0 0 0 0 0 0 0 0 0 0 0 0 0 0 0 0 ..."
      ]
     },
     "execution_count": 33,
     "metadata": {},
     "output_type": "execute_result"
    }
   ],
   "source": [
    "ds_notall0 = ds.sel(gene=~counts0.all(dim='cell'))\n",
    "ds_notall0"
   ]
  },
  {
   "cell_type": "code",
   "execution_count": 34,
   "metadata": {
    "collapsed": true
   },
   "outputs": [],
   "source": [
    "netcdf = os.path.join(data_folder, 'cshl-fibroblast.netcdf')\n",
    "ds_notall0.to_netcdf(netcdf)"
   ]
  },
  {
   "cell_type": "code",
   "execution_count": 35,
   "metadata": {},
   "outputs": [
    {
     "name": "stdout",
     "output_type": "stream",
     "text": [
      "total 9618192\r\n",
      "-rw-r--r--  1 olgabot  staff   4.6G Oct  5 13:44 cshl-fibroblast.netcdf\r\n"
     ]
    }
   ],
   "source": [
    "ls -lh $data_folder"
   ]
  },
  {
   "cell_type": "code",
   "execution_count": 36,
   "metadata": {},
   "outputs": [
    {
     "data": {
      "text/plain": [
       "<xarray.DataArray 'counts' (cell: 13300)>\n",
       "array([0, 0, 0, ..., 0, 0, 0])\n",
       "Coordinates:\n",
       "    group           (cell) object 'group1' 'group1' 'group1' 'group1' ...\n",
       "    cell_number     (cell) object 'c1' 'c2' 'c3' 'c4' 'c5' 'c6' 'c7' 'c8' ...\n",
       "    group_permuted  (cell) object 'group3' 'group3' 'group2' 'group3' ...\n",
       "    gene            <U9 '5_8S_rRNA'\n",
       "  * cell            (cell) object 'group1_0000' 'group1_0001' 'group1_0002' ..."
      ]
     },
     "execution_count": 36,
     "metadata": {},
     "output_type": "execute_result"
    }
   ],
   "source": [
    "ds.counts.loc[:, '5_8S_rRNA',]"
   ]
  },
  {
   "cell_type": "code",
   "execution_count": 37,
   "metadata": {},
   "outputs": [
    {
     "data": {
      "text/plain": [
       "<xarray.DataArray 'counts' (cell: 13300, gene: 2)>\n",
       "array([[0, 8],\n",
       "       [0, 4],\n",
       "       [0, 3],\n",
       "       ..., \n",
       "       [0, 0],\n",
       "       [0, 0],\n",
       "       [0, 0]])\n",
       "Coordinates:\n",
       "    group           (cell) object 'group1' 'group1' 'group1' 'group1' ...\n",
       "    cell_number     (cell) object 'c1' 'c2' 'c3' 'c4' 'c5' 'c6' 'c7' 'c8' ...\n",
       "    group_permuted  (cell) object 'group3' 'group3' 'group2' 'group3' ...\n",
       "  * gene            (gene) object '5_8S_rRNA' 'RBFOX2'\n",
       "  * cell            (cell) object 'group1_0000' 'group1_0001' 'group1_0002' ..."
      ]
     },
     "execution_count": 37,
     "metadata": {},
     "output_type": "execute_result"
    }
   ],
   "source": [
    "ds.counts.loc[:, ['5_8S_rRNA', 'RBFOX2']]"
   ]
  },
  {
   "cell_type": "code",
   "execution_count": 9,
   "metadata": {
    "collapsed": true
   },
   "outputs": [],
   "source": [
    "# ds['group'] = ('cell', ds.cell_metadata.sel(cell_feature='group'))\n",
    "# ds['cell_number'] =   ('cell', ds.cell_metadata.sel(cell_feature='cell_number'))\n",
    "# ds['group_permuted'] = ('cell', ds.cell_metadata.sel(cell_feature='group_permuted'))\n",
    "# ds"
   ]
  },
  {
   "cell_type": "code",
   "execution_count": 10,
   "metadata": {},
   "outputs": [
    {
     "data": {
      "text/plain": [
       "13300"
      ]
     },
     "execution_count": 10,
     "metadata": {},
     "output_type": "execute_result"
    }
   ],
   "source": [
    "len(ds.cell)"
   ]
  },
  {
   "cell_type": "code",
   "execution_count": 30,
   "metadata": {
    "scrolled": false
   },
   "outputs": [
    {
     "name": "stderr",
     "output_type": "stream",
     "text": [
      "/Users/olgabot/anaconda3/envs/cshl-sca-2017/lib/python3.6/site-packages/ipykernel_launcher.py:6: FutureWarning: inferring DataArray dimensions from dictionary like ``coords`` has been deprecated. Use an explicit list of ``dims`` instead.\n",
      "  \n"
     ]
    },
    {
     "data": {
      "text/plain": [
       "<xarray.DataArray (cell: 13300)>\n",
       "array([False, False, False, ..., False, False, False], dtype=bool)\n",
       "Coordinates:\n",
       "  * cell            (cell) object 'group1_0000' 'group1_0001' 'group1_0002' ...\n",
       "    cell_number     (cell) object 'c1' 'c2' 'c3' 'c4' 'c5' 'c6' 'c7' 'c8' ...\n",
       "    group_permuted  (cell) object 'group3' 'group3' 'group2' 'group3' ...\n",
       "    group           (cell) object 'group1' 'group1' 'group1' 'group1' ..."
      ]
     },
     "execution_count": 30,
     "metadata": {},
     "output_type": "execute_result"
    }
   ],
   "source": [
    "# Set random seed for reproducibility\n",
    "np.random.seed(0)\n",
    "\n",
    "def select_random_cell_subset(x, threshold=0.1):\n",
    "    \"\"\"Get boolean numbers for each cell at particular frequencies\n",
    "    \n",
    "    Generate random numbers from 0-1 for each cell, and \n",
    "    take cells whose random numbers are below the threshold\n",
    "    \"\"\"\n",
    "    random_bools = xr.DataArray(np.random.uniform(size=len(x.cell)) <= threshold,\n",
    "                               coords=dict(cell=x.cell)) \n",
    "    return random_bools\n",
    "\n",
    "\n",
    "subset_bools = ds.groupby('group').apply(select_random_cell_subset, \n",
    "                                                    threshold=0.1)\n",
    "subset_bools"
   ]
  },
  {
   "cell_type": "code",
   "execution_count": 29,
   "metadata": {},
   "outputs": [
    {
     "data": {
      "text/plain": [
       "<xarray.Dataset>\n",
       "Dimensions:         (cell: 1368, gene: 58828)\n",
       "Coordinates:\n",
       "    group           (cell) object 'group1' 'group1' 'group1' 'group1' ...\n",
       "    cell_number     (cell) object 'c15' 'c16' 'c17' 'c35' 'c44' 'c68' 'c70' ...\n",
       "    group_permuted  (cell) object 'group4' 'group4' 'group1' 'group5' ...\n",
       "  * gene            (gene) object '5S_rRNA' '5_8S_rRNA' '7SK' 'A1BG' ...\n",
       "  * cell            (cell) object 'group1_0014' 'group1_0015' 'group1_0016' ...\n",
       "Data variables:\n",
       "    counts          (cell, gene) int64 0 0 0 0 1 0 0 0 0 0 0 0 0 0 0 0 0 0 0 ..."
      ]
     },
     "execution_count": 29,
     "metadata": {},
     "output_type": "execute_result"
    }
   ],
   "source": [
    "ds_subset = ds.sel(cell=subset_bools)\n",
    "ds_subset"
   ]
  },
  {
   "cell_type": "code",
   "execution_count": 31,
   "metadata": {
    "collapsed": true
   },
   "outputs": [],
   "source": [
    "netcdf = os.path.join(data_folder, 'cshl-fibroblast-10percent.netcdf')\n",
    "ds_subset.to_netcdf(netcdf)"
   ]
  },
  {
   "cell_type": "markdown",
   "metadata": {},
   "source": [
    "## Write NetCDF"
   ]
  },
  {
   "cell_type": "code",
   "execution_count": 34,
   "metadata": {},
   "outputs": [
    {
     "name": "stdout",
     "output_type": "stream",
     "text": [
      "total 1263016\r\n",
      "-rw-r--r--  1 olgabot  staff   617M Oct  5 13:33 cshl-fibroblast-10percent.netcdf\r\n"
     ]
    }
   ],
   "source": [
    "! ls -lh $data_folder"
   ]
  },
  {
   "cell_type": "markdown",
   "metadata": {},
   "source": [
    "## Convert to pandas to write csvs"
   ]
  },
  {
   "cell_type": "code",
   "execution_count": 36,
   "metadata": {},
   "outputs": [
    {
     "data": {
      "text/html": [
       "<div>\n",
       "<style>\n",
       "    .dataframe thead tr:only-child th {\n",
       "        text-align: right;\n",
       "    }\n",
       "\n",
       "    .dataframe thead th {\n",
       "        text-align: left;\n",
       "    }\n",
       "\n",
       "    .dataframe tbody tr th {\n",
       "        vertical-align: top;\n",
       "    }\n",
       "</style>\n",
       "<table border=\"1\" class=\"dataframe\">\n",
       "  <thead>\n",
       "    <tr style=\"text-align: right;\">\n",
       "      <th></th>\n",
       "      <th></th>\n",
       "      <th>counts</th>\n",
       "      <th>group</th>\n",
       "      <th>cell_number</th>\n",
       "      <th>group_permuted</th>\n",
       "    </tr>\n",
       "    <tr>\n",
       "      <th>cell</th>\n",
       "      <th>gene</th>\n",
       "      <th></th>\n",
       "      <th></th>\n",
       "      <th></th>\n",
       "      <th></th>\n",
       "    </tr>\n",
       "  </thead>\n",
       "  <tbody>\n",
       "    <tr>\n",
       "      <th rowspan=\"5\" valign=\"top\">group1_0014</th>\n",
       "      <th>5S_rRNA</th>\n",
       "      <td>0</td>\n",
       "      <td>group1</td>\n",
       "      <td>c15</td>\n",
       "      <td>group4</td>\n",
       "    </tr>\n",
       "    <tr>\n",
       "      <th>5_8S_rRNA</th>\n",
       "      <td>0</td>\n",
       "      <td>group1</td>\n",
       "      <td>c15</td>\n",
       "      <td>group4</td>\n",
       "    </tr>\n",
       "    <tr>\n",
       "      <th>7SK</th>\n",
       "      <td>0</td>\n",
       "      <td>group1</td>\n",
       "      <td>c15</td>\n",
       "      <td>group4</td>\n",
       "    </tr>\n",
       "    <tr>\n",
       "      <th>A1BG</th>\n",
       "      <td>0</td>\n",
       "      <td>group1</td>\n",
       "      <td>c15</td>\n",
       "      <td>group4</td>\n",
       "    </tr>\n",
       "    <tr>\n",
       "      <th>A1BG-AS1</th>\n",
       "      <td>1</td>\n",
       "      <td>group1</td>\n",
       "      <td>c15</td>\n",
       "      <td>group4</td>\n",
       "    </tr>\n",
       "  </tbody>\n",
       "</table>\n",
       "</div>"
      ],
      "text/plain": [
       "                       counts   group cell_number group_permuted\n",
       "cell        gene                                                \n",
       "group1_0014 5S_rRNA         0  group1         c15         group4\n",
       "            5_8S_rRNA       0  group1         c15         group4\n",
       "            7SK             0  group1         c15         group4\n",
       "            A1BG            0  group1         c15         group4\n",
       "            A1BG-AS1        1  group1         c15         group4"
      ]
     },
     "execution_count": 36,
     "metadata": {},
     "output_type": "execute_result"
    }
   ],
   "source": [
    "df = ds_subset.to_dataframe()\n",
    "df.head()"
   ]
  },
  {
   "cell_type": "markdown",
   "metadata": {},
   "source": [
    "### Reformat dataframes..."
   ]
  },
  {
   "cell_type": "code",
   "execution_count": 38,
   "metadata": {},
   "outputs": [
    {
     "data": {
      "text/html": [
       "<div>\n",
       "<style>\n",
       "    .dataframe thead tr:only-child th {\n",
       "        text-align: right;\n",
       "    }\n",
       "\n",
       "    .dataframe thead th {\n",
       "        text-align: left;\n",
       "    }\n",
       "\n",
       "    .dataframe tbody tr th {\n",
       "        vertical-align: top;\n",
       "    }\n",
       "</style>\n",
       "<table border=\"1\" class=\"dataframe\">\n",
       "  <thead>\n",
       "    <tr style=\"text-align: right;\">\n",
       "      <th>gene</th>\n",
       "      <th>5S_rRNA</th>\n",
       "      <th>5_8S_rRNA</th>\n",
       "      <th>7SK</th>\n",
       "      <th>A1BG</th>\n",
       "      <th>A1BG-AS1</th>\n",
       "      <th>A1CF</th>\n",
       "      <th>A2M</th>\n",
       "      <th>A2M-AS1</th>\n",
       "      <th>A2ML1</th>\n",
       "      <th>A2ML1-AS1</th>\n",
       "      <th>...</th>\n",
       "      <th>snoU2-30</th>\n",
       "      <th>snoU2_19</th>\n",
       "      <th>snoU83B</th>\n",
       "      <th>snoZ196</th>\n",
       "      <th>snoZ278</th>\n",
       "      <th>snoZ40</th>\n",
       "      <th>snoZ6</th>\n",
       "      <th>snosnR66</th>\n",
       "      <th>uc_338</th>\n",
       "      <th>yR211F11.2</th>\n",
       "    </tr>\n",
       "    <tr>\n",
       "      <th>cell</th>\n",
       "      <th></th>\n",
       "      <th></th>\n",
       "      <th></th>\n",
       "      <th></th>\n",
       "      <th></th>\n",
       "      <th></th>\n",
       "      <th></th>\n",
       "      <th></th>\n",
       "      <th></th>\n",
       "      <th></th>\n",
       "      <th></th>\n",
       "      <th></th>\n",
       "      <th></th>\n",
       "      <th></th>\n",
       "      <th></th>\n",
       "      <th></th>\n",
       "      <th></th>\n",
       "      <th></th>\n",
       "      <th></th>\n",
       "      <th></th>\n",
       "      <th></th>\n",
       "    </tr>\n",
       "  </thead>\n",
       "  <tbody>\n",
       "    <tr>\n",
       "      <th>group1_0014</th>\n",
       "      <td>0</td>\n",
       "      <td>0</td>\n",
       "      <td>0</td>\n",
       "      <td>0</td>\n",
       "      <td>1</td>\n",
       "      <td>0</td>\n",
       "      <td>0</td>\n",
       "      <td>0</td>\n",
       "      <td>0</td>\n",
       "      <td>0</td>\n",
       "      <td>...</td>\n",
       "      <td>0</td>\n",
       "      <td>0</td>\n",
       "      <td>0</td>\n",
       "      <td>0</td>\n",
       "      <td>0</td>\n",
       "      <td>0</td>\n",
       "      <td>0</td>\n",
       "      <td>0</td>\n",
       "      <td>0</td>\n",
       "      <td>0</td>\n",
       "    </tr>\n",
       "    <tr>\n",
       "      <th>group1_0015</th>\n",
       "      <td>0</td>\n",
       "      <td>0</td>\n",
       "      <td>0</td>\n",
       "      <td>0</td>\n",
       "      <td>0</td>\n",
       "      <td>0</td>\n",
       "      <td>0</td>\n",
       "      <td>0</td>\n",
       "      <td>0</td>\n",
       "      <td>0</td>\n",
       "      <td>...</td>\n",
       "      <td>0</td>\n",
       "      <td>0</td>\n",
       "      <td>0</td>\n",
       "      <td>0</td>\n",
       "      <td>0</td>\n",
       "      <td>0</td>\n",
       "      <td>0</td>\n",
       "      <td>0</td>\n",
       "      <td>0</td>\n",
       "      <td>0</td>\n",
       "    </tr>\n",
       "    <tr>\n",
       "      <th>group1_0016</th>\n",
       "      <td>0</td>\n",
       "      <td>0</td>\n",
       "      <td>0</td>\n",
       "      <td>0</td>\n",
       "      <td>0</td>\n",
       "      <td>0</td>\n",
       "      <td>0</td>\n",
       "      <td>0</td>\n",
       "      <td>0</td>\n",
       "      <td>0</td>\n",
       "      <td>...</td>\n",
       "      <td>0</td>\n",
       "      <td>0</td>\n",
       "      <td>0</td>\n",
       "      <td>0</td>\n",
       "      <td>0</td>\n",
       "      <td>0</td>\n",
       "      <td>0</td>\n",
       "      <td>0</td>\n",
       "      <td>0</td>\n",
       "      <td>0</td>\n",
       "    </tr>\n",
       "    <tr>\n",
       "      <th>group1_0034</th>\n",
       "      <td>0</td>\n",
       "      <td>0</td>\n",
       "      <td>0</td>\n",
       "      <td>0</td>\n",
       "      <td>0</td>\n",
       "      <td>0</td>\n",
       "      <td>0</td>\n",
       "      <td>0</td>\n",
       "      <td>0</td>\n",
       "      <td>0</td>\n",
       "      <td>...</td>\n",
       "      <td>0</td>\n",
       "      <td>0</td>\n",
       "      <td>0</td>\n",
       "      <td>0</td>\n",
       "      <td>0</td>\n",
       "      <td>0</td>\n",
       "      <td>0</td>\n",
       "      <td>0</td>\n",
       "      <td>0</td>\n",
       "      <td>0</td>\n",
       "    </tr>\n",
       "    <tr>\n",
       "      <th>group1_0043</th>\n",
       "      <td>0</td>\n",
       "      <td>0</td>\n",
       "      <td>1</td>\n",
       "      <td>0</td>\n",
       "      <td>0</td>\n",
       "      <td>0</td>\n",
       "      <td>0</td>\n",
       "      <td>0</td>\n",
       "      <td>0</td>\n",
       "      <td>0</td>\n",
       "      <td>...</td>\n",
       "      <td>0</td>\n",
       "      <td>0</td>\n",
       "      <td>0</td>\n",
       "      <td>0</td>\n",
       "      <td>0</td>\n",
       "      <td>0</td>\n",
       "      <td>0</td>\n",
       "      <td>0</td>\n",
       "      <td>0</td>\n",
       "      <td>0</td>\n",
       "    </tr>\n",
       "  </tbody>\n",
       "</table>\n",
       "<p>5 rows × 58828 columns</p>\n",
       "</div>"
      ],
      "text/plain": [
       "gene         5S_rRNA  5_8S_rRNA  7SK  A1BG  A1BG-AS1  A1CF  A2M  A2M-AS1  \\\n",
       "cell                                                                       \n",
       "group1_0014        0          0    0     0         1     0    0        0   \n",
       "group1_0015        0          0    0     0         0     0    0        0   \n",
       "group1_0016        0          0    0     0         0     0    0        0   \n",
       "group1_0034        0          0    0     0         0     0    0        0   \n",
       "group1_0043        0          0    1     0         0     0    0        0   \n",
       "\n",
       "gene         A2ML1  A2ML1-AS1     ...      snoU2-30  snoU2_19  snoU83B  \\\n",
       "cell                              ...                                    \n",
       "group1_0014      0          0     ...             0         0        0   \n",
       "group1_0015      0          0     ...             0         0        0   \n",
       "group1_0016      0          0     ...             0         0        0   \n",
       "group1_0034      0          0     ...             0         0        0   \n",
       "group1_0043      0          0     ...             0         0        0   \n",
       "\n",
       "gene         snoZ196  snoZ278  snoZ40  snoZ6  snosnR66  uc_338  yR211F11.2  \n",
       "cell                                                                        \n",
       "group1_0014        0        0       0      0         0       0           0  \n",
       "group1_0015        0        0       0      0         0       0           0  \n",
       "group1_0016        0        0       0      0         0       0           0  \n",
       "group1_0034        0        0       0      0         0       0           0  \n",
       "group1_0043        0        0       0      0         0       0           0  \n",
       "\n",
       "[5 rows x 58828 columns]"
      ]
     },
     "execution_count": 38,
     "metadata": {},
     "output_type": "execute_result"
    }
   ],
   "source": [
    "counts_tall = df['counts']\n",
    "counts_2d = counts_tall.unstack()\n",
    "counts_2d.head()"
   ]
  },
  {
   "cell_type": "code",
   "execution_count": null,
   "metadata": {
    "collapsed": true
   },
   "outputs": [],
   "source": []
  }
 ],
 "metadata": {
  "kernelspec": {
   "display_name": "Python 3 (cshl-sca-2017)",
   "language": "python",
   "name": "cshl-sca-2017"
  },
  "language_info": {
   "codemirror_mode": {
    "name": "ipython",
    "version": 3
   },
   "file_extension": ".py",
   "mimetype": "text/x-python",
   "name": "python",
   "nbconvert_exporter": "python",
   "pygments_lexer": "ipython3",
   "version": "3.6.1"
  }
 },
 "nbformat": 4,
 "nbformat_minor": 2
}
