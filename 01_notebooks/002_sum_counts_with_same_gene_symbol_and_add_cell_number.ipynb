{
 "cells": [
  {
   "cell_type": "code",
   "execution_count": 2,
   "metadata": {
    "collapsed": true
   },
   "outputs": [],
   "source": [
    "import pandas as pd\n",
    "import numpy as np"
   ]
  },
  {
   "cell_type": "code",
   "execution_count": 3,
   "metadata": {},
   "outputs": [
    {
     "name": "stdout",
     "output_type": "stream",
     "text": [
      "Data folder for notebook: ../00_data/002_sum_counts_with_same_gene_symbol\n",
      "Figure folder for notebook: ../04_figures/002_sum_counts_with_same_gene_symbol\n"
     ]
    }
   ],
   "source": [
    "import os\n",
    "\n",
    "DATA_FOLDER = '../00_data'\n",
    "FIGURE_FOLDER = '../04_figures'\n",
    "\n",
    "notebook_name = '002_sum_counts_with_same_gene_symbol'\n",
    "\n",
    "data_folder = os.path.join(DATA_FOLDER, notebook_name)\n",
    "figure_folder = os.path.join(FIGURE_FOLDER, notebook_name)\n",
    "\n",
    "print('Data folder for notebook:', data_folder)\n",
    "print('Figure folder for notebook:', figure_folder)\n",
    "\n",
    "! mkdir -p $figure_folder\n",
    "! mkdir -p $data_folder"
   ]
  },
  {
   "cell_type": "code",
   "execution_count": 4,
   "metadata": {},
   "outputs": [
    {
     "name": "stdout",
     "output_type": "stream",
     "text": [
      "\u001b[1m\u001b[36mApplications\u001b[m\u001b[m                        \u001b[1m\u001b[36manaconda3\u001b[m\u001b[m\r\n",
      "\u001b[1m\u001b[36mCreative Cloud Files\u001b[m\u001b[m                \u001b[1m\u001b[36mbin\u001b[m\u001b[m\r\n",
      "\u001b[1m\u001b[36mDesktop\u001b[m\u001b[m                             \u001b[1m\u001b[36mcode\u001b[m\u001b[m\r\n",
      "\u001b[1m\u001b[36mDocuments\u001b[m\u001b[m                           \u001b[1m\u001b[36mdocker\u001b[m\u001b[m\r\n",
      "\u001b[1m\u001b[36mDownloads\u001b[m\u001b[m                           draft.txt\r\n",
      "GSE24565_family.soft                fibroblast.txt\r\n",
      "GSE24565_family.soft.gz             \u001b[1m\u001b[36mgdrive_test\u001b[m\u001b[m\r\n",
      "\u001b[1m\u001b[36mGoogle Drive\u001b[m\u001b[m                        \u001b[1m\u001b[36mgenomes\u001b[m\u001b[m\r\n",
      "Group1.matrix.txt                   \u001b[35mgoogledrive\u001b[m\u001b[m\r\n",
      "Group2.matrix.txt                   java_error_in_pycharm_308.log\r\n",
      "Group3.matrix.txt                   my_cool_file.txt\r\n",
      "Group4.matrix.txt                   \u001b[1m\u001b[36mnotebooks\u001b[m\u001b[m\r\n",
      "Group5.matrix.txt                   \u001b[1m\u001b[36molgabot.github.io-source-deprecated\u001b[m\u001b[m\r\n",
      "Group8.matrix.txt                   \u001b[1m\u001b[36mprojects\u001b[m\u001b[m\r\n",
      "\u001b[1m\u001b[36mLibrary\u001b[m\u001b[m                             \u001b[1m\u001b[36mpycon\u001b[m\u001b[m\r\n",
      "\u001b[1m\u001b[36mMovies\u001b[m\u001b[m                              \u001b[1m\u001b[36mpython_for_biologists\u001b[m\u001b[m\r\n",
      "\u001b[1m\u001b[36mMusic\u001b[m\u001b[m                               random_person.py\r\n",
      "\u001b[1m\u001b[36mPictures\u001b[m\u001b[m                            \u001b[1m\u001b[36mrutube\u001b[m\u001b[m\r\n",
      "\u001b[1m\u001b[36mPublic\u001b[m\u001b[m                              \u001b[1m\u001b[36mseaborn-data\u001b[m\u001b[m\r\n",
      "SRR089334.homo.htseq-count.txt      \u001b[1m\u001b[36msingularity-vm\u001b[m\u001b[m\r\n",
      "\u001b[1m\u001b[36mVirtualBox VMs\u001b[m\u001b[m                      \u001b[1m\u001b[36mthesis\u001b[m\u001b[m\r\n",
      "accessKeys.csv                      \u001b[1m\u001b[36myoutube\u001b[m\u001b[m\r\n",
      "\u001b[1m\u001b[36mallGroups\u001b[m\u001b[m\r\n"
     ]
    }
   ],
   "source": [
    "input_folder = '/Users/olgabot/'\n",
    "! ls $input_folder"
   ]
  },
  {
   "cell_type": "code",
   "execution_count": 5,
   "metadata": {
    "collapsed": true
   },
   "outputs": [],
   "source": [
    "group_numbers = 1, 2, 3, 4, 5, 8"
   ]
  },
  {
   "cell_type": "code",
   "execution_count": 6,
   "metadata": {},
   "outputs": [
    {
     "name": "stdout",
     "output_type": "stream",
     "text": [
      "--- Group #1 ---\n",
      "\t--- Time to read uncompressed csv: ---\n",
      "CPU times: user 5.7 s, sys: 705 ms, total: 6.41 s\n",
      "Wall time: 6.42 s\n",
      "Before after summing counts with same gene symbol (60725, 1000)\n",
      "\t--- Time to groupby and sum: ---\n",
      "CPU times: user 3.14 s, sys: 2.22 s, total: 5.36 s\n",
      "Wall time: 5.37 s\n",
      "Before after summing counts with same gene symbol (58828, 1000)\n",
      "\t--- Time to write gzipped csv: ---\n",
      "CPU times: user 58.2 s, sys: 119 ms, total: 58.3 s\n",
      "Wall time: 58.4 s\n",
      "\tWrote ../00_data/002_sum_counts_with_same_gene_symbol/Group1.matrix.csv.gz\n",
      "--- Group #2 ---\n",
      "\t--- Time to read uncompressed csv: ---\n",
      "CPU times: user 5.66 s, sys: 692 ms, total: 6.35 s\n",
      "Wall time: 6.37 s\n",
      "Before after summing counts with same gene symbol (60725, 1000)\n",
      "\t--- Time to groupby and sum: ---\n",
      "CPU times: user 3.22 s, sys: 2.3 s, total: 5.52 s\n",
      "Wall time: 5.53 s\n",
      "Before after summing counts with same gene symbol (58828, 1000)\n",
      "\t--- Time to write gzipped csv: ---\n",
      "CPU times: user 60 s, sys: 180 ms, total: 1min\n",
      "Wall time: 1min\n",
      "\tWrote ../00_data/002_sum_counts_with_same_gene_symbol/Group2.matrix.csv.gz\n",
      "--- Group #3 ---\n",
      "\t--- Time to read uncompressed csv: ---\n",
      "CPU times: user 40.5 s, sys: 4.17 s, total: 44.7 s\n",
      "Wall time: 45.3 s\n",
      "Before after summing counts with same gene symbol (60725, 5000)\n",
      "\t--- Time to groupby and sum: ---\n",
      "CPU times: user 26.2 s, sys: 20.5 s, total: 46.7 s\n",
      "Wall time: 50.2 s\n",
      "Before after summing counts with same gene symbol (58828, 5000)\n",
      "\t--- Time to write gzipped csv: ---\n",
      "CPU times: user 5min 49s, sys: 981 ms, total: 5min 49s\n",
      "Wall time: 5min 56s\n",
      "\tWrote ../00_data/002_sum_counts_with_same_gene_symbol/Group3.matrix.csv.gz\n",
      "--- Group #4 ---\n",
      "\t--- Time to read uncompressed csv: ---\n",
      "CPU times: user 28 s, sys: 4.17 s, total: 32.2 s\n",
      "Wall time: 32.8 s\n",
      "Before after summing counts with same gene symbol (60725, 4000)\n",
      "\t--- Time to groupby and sum: ---\n",
      "CPU times: user 20.8 s, sys: 15.2 s, total: 36.1 s\n",
      "Wall time: 38.5 s\n",
      "Before after summing counts with same gene symbol (58828, 4000)\n",
      "\t--- Time to write gzipped csv: ---\n",
      "CPU times: user 3min 58s, sys: 519 ms, total: 3min 59s\n",
      "Wall time: 3min 59s\n",
      "\tWrote ../00_data/002_sum_counts_with_same_gene_symbol/Group4.matrix.csv.gz\n",
      "--- Group #5 ---\n",
      "\t--- Time to read uncompressed csv: ---\n",
      "CPU times: user 8.54 s, sys: 1.28 s, total: 9.82 s\n",
      "Wall time: 9.86 s\n",
      "Before after summing counts with same gene symbol (60725, 1500)\n",
      "\t--- Time to groupby and sum: ---\n",
      "CPU times: user 5.42 s, sys: 3.52 s, total: 8.94 s\n",
      "Wall time: 8.96 s\n",
      "Before after summing counts with same gene symbol (58828, 1500)\n",
      "\t--- Time to write gzipped csv: ---\n",
      "CPU times: user 1min 38s, sys: 202 ms, total: 1min 38s\n",
      "Wall time: 1min 38s\n",
      "\tWrote ../00_data/002_sum_counts_with_same_gene_symbol/Group5.matrix.csv.gz\n",
      "--- Group #8 ---\n",
      "\t--- Time to read uncompressed csv: ---\n",
      "CPU times: user 4.38 s, sys: 604 ms, total: 4.98 s\n",
      "Wall time: 5 s\n",
      "Before after summing counts with same gene symbol (60725, 800)\n",
      "\t--- Time to groupby and sum: ---\n",
      "CPU times: user 2.75 s, sys: 1.81 s, total: 4.56 s\n",
      "Wall time: 4.57 s\n",
      "Before after summing counts with same gene symbol (58828, 800)\n",
      "\t--- Time to write gzipped csv: ---\n",
      "CPU times: user 44.9 s, sys: 167 ms, total: 45 s\n",
      "Wall time: 45.2 s\n",
      "\tWrote ../00_data/002_sum_counts_with_same_gene_symbol/Group8.matrix.csv.gz\n",
      "CPU times: user 16min 43s, sys: 59.4 s, total: 17min 42s\n",
      "Wall time: 17min 57s\n"
     ]
    }
   ],
   "source": [
    "%%time\n",
    "\n",
    "for n in group_numbers:\n",
    "    print(f'--- Group #{n} ---')\n",
    "    group_txt = f'Group{n}.matrix.txt'\n",
    "    filename = os.path.join(input_folder, group_txt)\n",
    "    \n",
    "    print('\\t--- Time to read uncompressed csv: ---')\n",
    "    %time df = pd.read_table(filename, header=None, index_col=[0, 1])\n",
    "    \n",
    "    # Sum counts for genes with the same gene symbol\n",
    "    # Symbols are the second (1th) level of the rows (axis=0)\n",
    "    print(\"Before after summing counts with same gene symbol\", df.shape)\n",
    "    print('\\t--- Time to groupby and sum: ---')\n",
    "    %time df = df.groupby(level=1, axis=0).sum()\n",
    "    print(\"Before after summing counts with same gene symbol\", df.shape)\n",
    "    \n",
    "    # Add \"cNNNN\" for the cell number\n",
    "    df.columns = ['group{n}_{i}'.format(i=str(i).zfill(4), n=n) \n",
    "                  for i in range(len(df.columns))]\n",
    "    \n",
    "    csv = os.path.join(data_folder, group_txt.replace('.txt', '.csv.gz'))\n",
    "    print('\\t--- Time to write gzipped csv: ---')\n",
    "    %time df.to_csv(csv, compression='gzip', index_label=False)\n",
    "    print(f'\\tWrote {csv}')\n",
    "#     dfs.append(df)\n",
    "\n",
    "# counts = pd.concat(dfs, axis=1)\n",
    "# counts = counts.fillna(0)\n",
    "# print(counts.shape)\n",
    "\n",
    "# counts.head()"
   ]
  },
  {
   "cell_type": "code",
   "execution_count": 7,
   "metadata": {},
   "outputs": [
    {
     "name": "stdout",
     "output_type": "stream",
     "text": [
      "total 65616\r\n",
      "drwxr-xr-x  8 olgabot  staff   272B Sep 29 14:27 \u001b[1m\u001b[36m.\u001b[m\u001b[m/\r\n",
      "drwxr-xr-x  9 olgabot  staff   306B Sep 29 14:38 \u001b[1m\u001b[36m..\u001b[m\u001b[m/\r\n",
      "-rw-r--r--  1 olgabot  staff   2.6M Sep 29 14:56 Group1.matrix.csv.gz\r\n",
      "-rw-r--r--  1 olgabot  staff   2.6M Sep 29 14:57 Group2.matrix.csv.gz\r\n",
      "-rw-r--r--  1 olgabot  staff    12M Sep 29 15:05 Group3.matrix.csv.gz\r\n",
      "-rw-r--r--  1 olgabot  staff   8.0M Sep 29 15:10 Group4.matrix.csv.gz\r\n",
      "-rw-r--r--  1 olgabot  staff   4.3M Sep 29 15:12 Group5.matrix.csv.gz\r\n",
      "-rw-r--r--  1 olgabot  staff   2.0M Sep 29 15:13 Group8.matrix.csv.gz\r\n"
     ]
    }
   ],
   "source": [
    "ls -lha $data_folder"
   ]
  },
  {
   "cell_type": "code",
   "execution_count": null,
   "metadata": {
    "collapsed": true
   },
   "outputs": [],
   "source": []
  }
 ],
 "metadata": {
  "kernelspec": {
   "display_name": "Python 3 (maca-dash)",
   "language": "python",
   "name": "myenv"
  },
  "language_info": {
   "codemirror_mode": {
    "name": "ipython",
    "version": 3
   },
   "file_extension": ".py",
   "mimetype": "text/x-python",
   "name": "python",
   "nbconvert_exporter": "python",
   "pygments_lexer": "ipython3",
   "version": "3.6.2"
  }
 },
 "nbformat": 4,
 "nbformat_minor": 2
}
