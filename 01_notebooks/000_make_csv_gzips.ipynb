{
 "cells": [
  {
   "cell_type": "code",
   "execution_count": 14,
   "metadata": {},
   "outputs": [
    {
     "name": "stdout",
     "output_type": "stream",
     "text": [
      "Data folder for notebook: ../00_data/000_make_csv_gzips\n",
      "Figure folder for notebook: ../04_figures/000_make_csv_gzips\n"
     ]
    }
   ],
   "source": [
    "import os\n",
    "\n",
    "DATA_FOLDER = '../00_data'\n",
    "FIGURE_FOLDER = '../04_figures'\n",
    "\n",
    "notebook_name = '000_make_csv_gzips'\n",
    "\n",
    "data_folder = os.path.join(DATA_FOLDER, notebook_name)\n",
    "figure_folder = os.path.join(FIGURE_FOLDER, notebook_name)\n",
    "\n",
    "print('Data folder for notebook:', data_folder)\n",
    "print('Figure folder for notebook:', figure_folder)\n",
    "\n",
    "! mkdir -p $figure_folder\n",
    "! mkdir -p $data_folder"
   ]
  },
  {
   "cell_type": "markdown",
   "metadata": {},
   "source": [
    "## Read counts for random 10% subset"
   ]
  },
  {
   "cell_type": "code",
   "execution_count": 41,
   "metadata": {},
   "outputs": [
    {
     "name": "stdout",
     "output_type": "stream",
     "text": [
      "(60725, 1330)\n"
     ]
    },
    {
     "data": {
      "text/html": [
       "<div>\n",
       "<table border=\"1\" class=\"dataframe\">\n",
       "  <thead>\n",
       "    <tr style=\"text-align: right;\">\n",
       "      <th></th>\n",
       "      <th>c697</th>\n",
       "      <th>c994</th>\n",
       "      <th>c583</th>\n",
       "      <th>c24</th>\n",
       "      <th>c346</th>\n",
       "      <th>c421</th>\n",
       "      <th>c681</th>\n",
       "      <th>c65</th>\n",
       "      <th>c524</th>\n",
       "      <th>c993</th>\n",
       "      <th>...</th>\n",
       "      <th>c12529</th>\n",
       "      <th>c13099</th>\n",
       "      <th>c12764</th>\n",
       "      <th>c12671</th>\n",
       "      <th>c12752</th>\n",
       "      <th>c12559</th>\n",
       "      <th>c12835</th>\n",
       "      <th>c12593</th>\n",
       "      <th>c12777</th>\n",
       "      <th>c12744</th>\n",
       "    </tr>\n",
       "  </thead>\n",
       "  <tbody>\n",
       "    <tr>\n",
       "      <th>TSPAN6</th>\n",
       "      <td>0</td>\n",
       "      <td>0</td>\n",
       "      <td>0</td>\n",
       "      <td>0</td>\n",
       "      <td>1</td>\n",
       "      <td>0</td>\n",
       "      <td>0</td>\n",
       "      <td>0</td>\n",
       "      <td>0</td>\n",
       "      <td>0</td>\n",
       "      <td>...</td>\n",
       "      <td>0</td>\n",
       "      <td>0</td>\n",
       "      <td>0</td>\n",
       "      <td>0</td>\n",
       "      <td>0</td>\n",
       "      <td>0</td>\n",
       "      <td>0</td>\n",
       "      <td>0</td>\n",
       "      <td>0</td>\n",
       "      <td>0</td>\n",
       "    </tr>\n",
       "    <tr>\n",
       "      <th>TNMD</th>\n",
       "      <td>0</td>\n",
       "      <td>0</td>\n",
       "      <td>0</td>\n",
       "      <td>0</td>\n",
       "      <td>0</td>\n",
       "      <td>0</td>\n",
       "      <td>0</td>\n",
       "      <td>0</td>\n",
       "      <td>0</td>\n",
       "      <td>0</td>\n",
       "      <td>...</td>\n",
       "      <td>0</td>\n",
       "      <td>0</td>\n",
       "      <td>0</td>\n",
       "      <td>0</td>\n",
       "      <td>0</td>\n",
       "      <td>0</td>\n",
       "      <td>0</td>\n",
       "      <td>0</td>\n",
       "      <td>0</td>\n",
       "      <td>0</td>\n",
       "    </tr>\n",
       "    <tr>\n",
       "      <th>DPM1</th>\n",
       "      <td>0</td>\n",
       "      <td>0</td>\n",
       "      <td>0</td>\n",
       "      <td>1</td>\n",
       "      <td>0</td>\n",
       "      <td>0</td>\n",
       "      <td>0</td>\n",
       "      <td>1</td>\n",
       "      <td>0</td>\n",
       "      <td>0</td>\n",
       "      <td>...</td>\n",
       "      <td>1</td>\n",
       "      <td>0</td>\n",
       "      <td>0</td>\n",
       "      <td>0</td>\n",
       "      <td>0</td>\n",
       "      <td>1</td>\n",
       "      <td>0</td>\n",
       "      <td>0</td>\n",
       "      <td>0</td>\n",
       "      <td>0</td>\n",
       "    </tr>\n",
       "    <tr>\n",
       "      <th>SCYL3</th>\n",
       "      <td>0</td>\n",
       "      <td>0</td>\n",
       "      <td>0</td>\n",
       "      <td>0</td>\n",
       "      <td>0</td>\n",
       "      <td>0</td>\n",
       "      <td>0</td>\n",
       "      <td>0</td>\n",
       "      <td>0</td>\n",
       "      <td>1</td>\n",
       "      <td>...</td>\n",
       "      <td>0</td>\n",
       "      <td>0</td>\n",
       "      <td>0</td>\n",
       "      <td>0</td>\n",
       "      <td>0</td>\n",
       "      <td>0</td>\n",
       "      <td>0</td>\n",
       "      <td>0</td>\n",
       "      <td>0</td>\n",
       "      <td>0</td>\n",
       "    </tr>\n",
       "    <tr>\n",
       "      <th>C1orf112</th>\n",
       "      <td>0</td>\n",
       "      <td>0</td>\n",
       "      <td>0</td>\n",
       "      <td>0</td>\n",
       "      <td>0</td>\n",
       "      <td>0</td>\n",
       "      <td>0</td>\n",
       "      <td>0</td>\n",
       "      <td>0</td>\n",
       "      <td>0</td>\n",
       "      <td>...</td>\n",
       "      <td>0</td>\n",
       "      <td>0</td>\n",
       "      <td>0</td>\n",
       "      <td>0</td>\n",
       "      <td>0</td>\n",
       "      <td>0</td>\n",
       "      <td>0</td>\n",
       "      <td>0</td>\n",
       "      <td>0</td>\n",
       "      <td>0</td>\n",
       "    </tr>\n",
       "  </tbody>\n",
       "</table>\n",
       "<p>5 rows × 1330 columns</p>\n",
       "</div>"
      ],
      "text/plain": [
       "          c697  c994  c583  c24  c346  c421  c681  c65  c524  c993   ...    \\\n",
       "TSPAN6       0     0     0    0     1     0     0    0     0     0   ...     \n",
       "TNMD         0     0     0    0     0     0     0    0     0     0   ...     \n",
       "DPM1         0     0     0    1     0     0     0    1     0     0   ...     \n",
       "SCYL3        0     0     0    0     0     0     0    0     0     1   ...     \n",
       "C1orf112     0     0     0    0     0     0     0    0     0     0   ...     \n",
       "\n",
       "          c12529  c13099  c12764  c12671  c12752  c12559  c12835  c12593  \\\n",
       "TSPAN6         0       0       0       0       0       0       0       0   \n",
       "TNMD           0       0       0       0       0       0       0       0   \n",
       "DPM1           1       0       0       0       0       1       0       0   \n",
       "SCYL3          0       0       0       0       0       0       0       0   \n",
       "C1orf112       0       0       0       0       0       0       0       0   \n",
       "\n",
       "          c12777  c12744  \n",
       "TSPAN6         0       0  \n",
       "TNMD           0       0  \n",
       "DPM1           0       0  \n",
       "SCYL3          0       0  \n",
       "C1orf112       0       0  \n",
       "\n",
       "[5 rows x 1330 columns]"
      ]
     },
     "execution_count": 41,
     "metadata": {},
     "output_type": "execute_result"
    }
   ],
   "source": [
    "import pandas as pd\n",
    "\n",
    "counts_10percent = pd.read_table(\n",
    "    '/Users/olgabot/googledrive/batch-effect-comparison/Data/10percentCellSubset_allgenes.txt', index_col=0, \n",
    "    sep='\\s+')\n",
    "print(counts_10percent.shape)\n",
    "counts_10percent.head()"
   ]
  },
  {
   "cell_type": "markdown",
   "metadata": {},
   "source": [
    "### Write to CSV"
   ]
  },
  {
   "cell_type": "code",
   "execution_count": 42,
   "metadata": {},
   "outputs": [],
   "source": [
    "csv = os.path.join(data_folder, '10percentCellSubset_allgenes.csv')\n",
    "counts_10percent.to_csv(csv)"
   ]
  },
  {
   "cell_type": "code",
   "execution_count": 43,
   "metadata": {},
   "outputs": [
    {
     "name": "stdout",
     "output_type": "stream",
     "text": [
      "total 325656\r\n",
      "-rw-r--r--  1 olgabot  staff   155M Sep 25 15:22 10percentCellSubset_allgenes.csv\r\n",
      "-rw-r--r--  1 olgabot  staff   4.1M Sep 25 15:16 10percentCellSubset_allgenes.csv.zip\r\n",
      "-rw-r--r--  1 olgabot  staff   106K Sep 25 15:18 10percentCellSubset_meta.csv\r\n",
      "-rw-r--r--  1 olgabot  staff   106K Sep 25 15:19 AllCells_metadata.csv\r\n"
     ]
    }
   ],
   "source": [
    "ls -lh $data_folder"
   ]
  },
  {
   "cell_type": "code",
   "execution_count": 44,
   "metadata": {},
   "outputs": [
    {
     "name": "stdout",
     "output_type": "stream",
     "text": [
      "total 325656\r\n",
      "-rw-r--r--  1 olgabot  staff   155M Sep 25 15:22 10percentCellSubset_allgenes.csv\r\n",
      "-rw-r--r--  1 olgabot  staff   4.1M Sep 25 15:16 10percentCellSubset_allgenes.csv.zip\r\n",
      "-rw-r--r--  1 olgabot  staff   106K Sep 25 15:18 10percentCellSubset_meta.csv\r\n",
      "-rw-r--r--  1 olgabot  staff   106K Sep 25 15:19 AllCells_metadata.csv\r\n"
     ]
    }
   ],
   "source": [
    "ls -lh $data_folder"
   ]
  },
  {
   "cell_type": "markdown",
   "metadata": {},
   "source": [
    "## Read metadata for randomly generated 10% subset"
   ]
  },
  {
   "cell_type": "code",
   "execution_count": 45,
   "metadata": {},
   "outputs": [
    {
     "name": "stdout",
     "output_type": "stream",
     "text": [
      "(1330, 2)\n"
     ]
    },
    {
     "data": {
      "text/html": [
       "<div>\n",
       "<table border=\"1\" class=\"dataframe\">\n",
       "  <thead>\n",
       "    <tr style=\"text-align: right;\">\n",
       "      <th></th>\n",
       "      <th>Cell</th>\n",
       "      <th>Batch</th>\n",
       "    </tr>\n",
       "  </thead>\n",
       "  <tbody>\n",
       "    <tr>\n",
       "      <th>c699</th>\n",
       "      <td>699</td>\n",
       "      <td>1</td>\n",
       "    </tr>\n",
       "    <tr>\n",
       "      <th>c996</th>\n",
       "      <td>996</td>\n",
       "      <td>1</td>\n",
       "    </tr>\n",
       "    <tr>\n",
       "      <th>c585</th>\n",
       "      <td>585</td>\n",
       "      <td>1</td>\n",
       "    </tr>\n",
       "    <tr>\n",
       "      <th>c26</th>\n",
       "      <td>26</td>\n",
       "      <td>1</td>\n",
       "    </tr>\n",
       "    <tr>\n",
       "      <th>c348</th>\n",
       "      <td>348</td>\n",
       "      <td>1</td>\n",
       "    </tr>\n",
       "  </tbody>\n",
       "</table>\n",
       "</div>"
      ],
      "text/plain": [
       "      Cell  Batch\n",
       "c699   699      1\n",
       "c996   996      1\n",
       "c585   585      1\n",
       "c26     26      1\n",
       "c348   348      1"
      ]
     },
     "execution_count": 45,
     "metadata": {},
     "output_type": "execute_result"
    }
   ],
   "source": [
    "metadata_10percent = pd.read_table(\n",
    "    '/Users/olgabot/googledrive/batch-effect-comparison/Data/10percentCellSubset_meta.txt', index_col=1, sep='\\s+')\n",
    "print(metadata_10percent.shape)\n",
    "metadata_10percent.head()"
   ]
  },
  {
   "cell_type": "code",
   "execution_count": 46,
   "metadata": {
    "collapsed": true
   },
   "outputs": [],
   "source": [
    " csv = os.path.join(data_folder, '10percentCellSubset_meta.csv')\n",
    "metadata_10percent.to_csv(csv)"
   ]
  },
  {
   "cell_type": "code",
   "execution_count": 47,
   "metadata": {},
   "outputs": [
    {
     "name": "stdout",
     "output_type": "stream",
     "text": [
      "total 325480\r\n",
      "-rw-r--r--  1 olgabot  staff   155M Sep 25 15:22 10percentCellSubset_allgenes.csv\r\n",
      "-rw-r--r--  1 olgabot  staff   4.1M Sep 25 15:16 10percentCellSubset_allgenes.csv.zip\r\n",
      "-rw-r--r--  1 olgabot  staff    17K Sep 25 15:22 10percentCellSubset_meta.csv\r\n",
      "-rw-r--r--  1 olgabot  staff   106K Sep 25 15:19 AllCells_metadata.csv\r\n"
     ]
    }
   ],
   "source": [
    "ls -lh $data_folder"
   ]
  },
  {
   "cell_type": "markdown",
   "metadata": {},
   "source": [
    "## Read metadata for entire dataset"
   ]
  },
  {
   "cell_type": "code",
   "execution_count": 48,
   "metadata": {},
   "outputs": [
    {
     "name": "stdout",
     "output_type": "stream",
     "text": [
      "(13300, 1)\n"
     ]
    },
    {
     "data": {
      "text/html": [
       "<div>\n",
       "<table border=\"1\" class=\"dataframe\">\n",
       "  <thead>\n",
       "    <tr style=\"text-align: right;\">\n",
       "      <th></th>\n",
       "      <th>Batch</th>\n",
       "    </tr>\n",
       "    <tr>\n",
       "      <th>Cell</th>\n",
       "      <th></th>\n",
       "    </tr>\n",
       "  </thead>\n",
       "  <tbody>\n",
       "    <tr>\n",
       "      <th>c1</th>\n",
       "      <td>1</td>\n",
       "    </tr>\n",
       "    <tr>\n",
       "      <th>c2</th>\n",
       "      <td>1</td>\n",
       "    </tr>\n",
       "    <tr>\n",
       "      <th>c3</th>\n",
       "      <td>1</td>\n",
       "    </tr>\n",
       "    <tr>\n",
       "      <th>c4</th>\n",
       "      <td>1</td>\n",
       "    </tr>\n",
       "    <tr>\n",
       "      <th>c5</th>\n",
       "      <td>1</td>\n",
       "    </tr>\n",
       "  </tbody>\n",
       "</table>\n",
       "</div>"
      ],
      "text/plain": [
       "      Batch\n",
       "Cell       \n",
       "c1        1\n",
       "c2        1\n",
       "c3        1\n",
       "c4        1\n",
       "c5        1"
      ]
     },
     "execution_count": 48,
     "metadata": {},
     "output_type": "execute_result"
    }
   ],
   "source": [
    "metadata_allcells = pd.read_table('/Users/olgabot/googledrive/batch-effect-comparison/Data/AllCells_metadata.txt', \n",
    "                                  index_col=0, sep='\\s+')\n",
    "print(metadata_allcells.shape)\n",
    "metadata_allcells.head()"
   ]
  },
  {
   "cell_type": "code",
   "execution_count": 49,
   "metadata": {
    "collapsed": true
   },
   "outputs": [],
   "source": [
    "csv = os.path.join(data_folder, 'AllCells_metadata.csv')\n",
    "metadata_allcells.to_csv(csv)"
   ]
  },
  {
   "cell_type": "code",
   "execution_count": 50,
   "metadata": {},
   "outputs": [
    {
     "name": "stdout",
     "output_type": "stream",
     "text": [
      "total 325480\r\n",
      "-rw-r--r--  1 olgabot  staff   155M Sep 25 15:22 10percentCellSubset_allgenes.csv\r\n",
      "-rw-r--r--  1 olgabot  staff   4.1M Sep 25 15:16 10percentCellSubset_allgenes.csv.zip\r\n",
      "-rw-r--r--  1 olgabot  staff    17K Sep 25 15:22 10percentCellSubset_meta.csv\r\n",
      "-rw-r--r--  1 olgabot  staff   106K Sep 25 15:22 AllCells_metadata.csv\r\n"
     ]
    }
   ],
   "source": [
    "ls -lh $data_folder"
   ]
  },
  {
   "cell_type": "markdown",
   "metadata": {},
   "source": [
    "## Zip the files so they're smaller"
   ]
  },
  {
   "cell_type": "code",
   "execution_count": 51,
   "metadata": {},
   "outputs": [
    {
     "name": "stdout",
     "output_type": "stream",
     "text": [
      "updating: ../00_data/000_make_csv_gzips/10percentCellSubset_allgenes.csv (deflated 97%)\n",
      "  adding: ../00_data/000_make_csv_gzips/10percentCellSubset_meta.csv (deflated 63%)\n",
      "  adding: ../00_data/000_make_csv_gzips/AllCells_metadata.csv (deflated 73%)\n"
     ]
    }
   ],
   "source": [
    "import glob\n",
    "\n",
    "csvs = glob.glob(os.path.join(data_folder, '*.csv'))\n",
    "for csv in csvs:\n",
    "    ! zip $csv\\.zip $csv"
   ]
  },
  {
   "cell_type": "code",
   "execution_count": null,
   "metadata": {
    "collapsed": true
   },
   "outputs": [],
   "source": []
  }
 ],
 "metadata": {
  "kernelspec": {
   "display_name": "Python 3",
   "language": "python",
   "name": "python3"
  },
  "language_info": {
   "codemirror_mode": {
    "name": "ipython",
    "version": 3
   },
   "file_extension": ".py",
   "mimetype": "text/x-python",
   "name": "python",
   "nbconvert_exporter": "python",
   "pygments_lexer": "ipython3",
   "version": "3.5.2"
  }
 },
 "nbformat": 4,
 "nbformat_minor": 2
}
