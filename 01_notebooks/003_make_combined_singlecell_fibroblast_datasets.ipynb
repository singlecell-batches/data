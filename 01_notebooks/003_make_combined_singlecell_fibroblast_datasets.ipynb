{
 "cells": [
  {
   "cell_type": "code",
   "execution_count": 7,
   "metadata": {},
   "outputs": [
    {
     "name": "stdout",
     "output_type": "stream",
     "text": [
      "Data folder for notebook: ../00_data/003_make_combined_singlecell_fibroblast_datasets\n",
      "Figure folder for notebook: ../04_figures/003_make_combined_singlecell_fibroblast_datasets\n"
     ]
    }
   ],
   "source": [
    "import os\n",
    "\n",
    "DATA_FOLDER = '../00_data'\n",
    "FIGURE_FOLDER = '../04_figures'\n",
    "\n",
    "notebook_name = '003_make_combined_singlecell_fibroblast_datasets'\n",
    "\n",
    "data_folder = os.path.join(DATA_FOLDER, notebook_name)\n",
    "figure_folder = os.path.join(FIGURE_FOLDER, notebook_name)\n",
    "\n",
    "print('Data folder for notebook:', data_folder)\n",
    "print('Figure folder for notebook:', figure_folder)\n",
    "\n",
    "! mkdir -p $figure_folder\n",
    "! mkdir -p $data_folder"
   ]
  },
  {
   "cell_type": "code",
   "execution_count": 8,
   "metadata": {
    "collapsed": true
   },
   "outputs": [],
   "source": [
    "# Numerical python\n",
    "import numpy as np\n",
    "\n",
    "# Pandas for dataframes\n",
    "import pandas as pd\n",
    "\n",
    "# Labeled N-dimensional arrays\n",
    "import xarray as xr"
   ]
  },
  {
   "cell_type": "code",
   "execution_count": 9,
   "metadata": {
    "collapsed": true
   },
   "outputs": [],
   "source": [
    "%matplotlib inline"
   ]
  },
  {
   "cell_type": "code",
   "execution_count": 14,
   "metadata": {},
   "outputs": [
    {
     "name": "stdout",
     "output_type": "stream",
     "text": [
      "total 36536\r\n",
      "-rw-r--r--  1 olgabot  staff   2.6M Sep 29 14:56 Group1.matrix.csv.gz\r\n",
      "-rw-r--r--  1 olgabot  staff   2.6M Sep 29 14:50 Group2.matrix.csv.gz\r\n",
      "-rw-r--r--  1 olgabot  staff   6.2M Sep 29 14:54 Group3.matrix.csv.gz\r\n",
      "-rw-r--r--  1 olgabot  staff    33K Sep 29 14:54 Group4.matrix.csv.gz\r\n",
      "-rw-r--r--  1 olgabot  staff   4.3M Sep 29 14:26 Group5.matrix.csv.gz\r\n",
      "-rw-r--r--  1 olgabot  staff   2.0M Sep 29 14:27 Group8.matrix.csv.gz\r\n"
     ]
    }
   ],
   "source": [
    "input_folder = os.path.join(DATA_FOLDER, '002_sum_counts_with_same_gene_symbol')\n",
    "! ls -lh $input_folder"
   ]
  },
  {
   "cell_type": "code",
   "execution_count": 15,
   "metadata": {
    "collapsed": true
   },
   "outputs": [],
   "source": [
    "group_numbers = 1, 2, 3, 4, 5, 8"
   ]
  },
  {
   "cell_type": "code",
   "execution_count": 35,
   "metadata": {
    "scrolled": false
   },
   "outputs": [
    {
     "name": "stdout",
     "output_type": "stream",
     "text": [
      "--- Group #1 ---\n",
      "\t--- Time to read gzipped csv: ---\n",
      "CPU times: user 5.83 s, sys: 630 ms, total: 6.46 s\n",
      "Wall time: 6.47 s\n",
      "\tAre the columns unique? True\n",
      "--- Group #2 ---\n",
      "\t--- Time to read gzipped csv: ---\n",
      "CPU times: user 5.96 s, sys: 614 ms, total: 6.57 s\n",
      "Wall time: 6.6 s\n",
      "\tAre the columns unique? True\n",
      "--- Group #3 ---\n",
      "\t--- Time to read gzipped csv: ---\n",
      "CPU times: user 46.2 s, sys: 4.02 s, total: 50.2 s\n",
      "Wall time: 50.4 s\n",
      "\tAre the columns unique? True\n",
      "--- Group #4 ---\n",
      "\t--- Time to read gzipped csv: ---\n",
      "CPU times: user 29.2 s, sys: 3.27 s, total: 32.4 s\n",
      "Wall time: 32.9 s\n",
      "\tAre the columns unique? True\n",
      "--- Group #5 ---\n",
      "\t--- Time to read gzipped csv: ---\n",
      "CPU times: user 9.28 s, sys: 936 ms, total: 10.2 s\n",
      "Wall time: 10.2 s\n",
      "\tAre the columns unique? True\n",
      "--- Group #8 ---\n",
      "\t--- Time to read gzipped csv: ---\n",
      "CPU times: user 4.59 s, sys: 429 ms, total: 5.02 s\n",
      "Wall time: 5.03 s\n",
      "\tAre the columns unique? True\n",
      "(58828, 13300)\n",
      "CPU times: user 1min 51s, sys: 32.6 s, total: 2min 23s\n",
      "Wall time: 2min 31s\n"
     ]
    }
   ],
   "source": [
    "%%time\n",
    "import glob\n",
    "\n",
    "dfs = []\n",
    "\n",
    "for n in group_numbers:\n",
    "    print(f'--- Group #{n} ---')\n",
    "    basename = f'Group{n}.matrix.csv.gz'\n",
    "    filename = os.path.join(input_folder, basename)\n",
    "    print('\\t--- Time to read gzipped csv: ---')\n",
    "    try:\n",
    "        %time df = pd.read_csv(filename, compression='gzip', index_col=0)\n",
    "    except EOFError:\n",
    "        break\n",
    "    \n",
    "#     # Remove genes that are zero for all cells\n",
    "#     all_zero = (df == 0).all(axis=1)\n",
    "#     print('\\tbefore:', df.shape)\n",
    "#     df = df.loc[~all_zero]\n",
    "#     print('\\tafter:', df.shape)\n",
    "\n",
    "    # Add group id \"cNNNN\" for the cell number\n",
    "    df.columns = ['group{n}_{i}'.format(i=str(i).zfill(4), n=n) \n",
    "                  for i in range(len(df.columns))]\n",
    "    \n",
    "    print(f\"\\tAre the columns unique? {df.columns.is_unique}\")\n",
    "    dfs.append(df)\n",
    "\n",
    "counts = pd.concat(dfs, axis=1)\n",
    "counts = counts.fillna(0)\n",
    "print('Concatenated data:', counts.shape)"
   ]
  },
  {
   "cell_type": "code",
   "execution_count": 18,
   "metadata": {},
   "outputs": [
    {
     "data": {
      "text/html": [
       "<div>\n",
       "<style>\n",
       "    .dataframe thead tr:only-child th {\n",
       "        text-align: right;\n",
       "    }\n",
       "\n",
       "    .dataframe thead th {\n",
       "        text-align: left;\n",
       "    }\n",
       "\n",
       "    .dataframe tbody tr th {\n",
       "        vertical-align: top;\n",
       "    }\n",
       "</style>\n",
       "<table border=\"1\" class=\"dataframe\">\n",
       "  <thead>\n",
       "    <tr style=\"text-align: right;\">\n",
       "      <th></th>\n",
       "      <th>group1_0000</th>\n",
       "      <th>group1_0001</th>\n",
       "      <th>group1_0002</th>\n",
       "      <th>group1_0003</th>\n",
       "      <th>group1_0004</th>\n",
       "      <th>group1_0005</th>\n",
       "      <th>group1_0006</th>\n",
       "      <th>group1_0007</th>\n",
       "      <th>group1_0008</th>\n",
       "      <th>group1_0009</th>\n",
       "      <th>...</th>\n",
       "      <th>group8_0790</th>\n",
       "      <th>group8_0791</th>\n",
       "      <th>group8_0792</th>\n",
       "      <th>group8_0793</th>\n",
       "      <th>group8_0794</th>\n",
       "      <th>group8_0795</th>\n",
       "      <th>group8_0796</th>\n",
       "      <th>group8_0797</th>\n",
       "      <th>group8_0798</th>\n",
       "      <th>group8_0799</th>\n",
       "    </tr>\n",
       "  </thead>\n",
       "  <tbody>\n",
       "    <tr>\n",
       "      <th>5S_rRNA</th>\n",
       "      <td>0</td>\n",
       "      <td>0</td>\n",
       "      <td>0</td>\n",
       "      <td>0</td>\n",
       "      <td>0</td>\n",
       "      <td>0</td>\n",
       "      <td>0</td>\n",
       "      <td>0</td>\n",
       "      <td>0</td>\n",
       "      <td>0</td>\n",
       "      <td>...</td>\n",
       "      <td>0</td>\n",
       "      <td>0</td>\n",
       "      <td>0</td>\n",
       "      <td>0</td>\n",
       "      <td>0</td>\n",
       "      <td>0</td>\n",
       "      <td>0</td>\n",
       "      <td>0</td>\n",
       "      <td>0</td>\n",
       "      <td>0</td>\n",
       "    </tr>\n",
       "    <tr>\n",
       "      <th>5_8S_rRNA</th>\n",
       "      <td>0</td>\n",
       "      <td>0</td>\n",
       "      <td>0</td>\n",
       "      <td>0</td>\n",
       "      <td>0</td>\n",
       "      <td>0</td>\n",
       "      <td>0</td>\n",
       "      <td>0</td>\n",
       "      <td>0</td>\n",
       "      <td>0</td>\n",
       "      <td>...</td>\n",
       "      <td>0</td>\n",
       "      <td>0</td>\n",
       "      <td>0</td>\n",
       "      <td>0</td>\n",
       "      <td>0</td>\n",
       "      <td>0</td>\n",
       "      <td>0</td>\n",
       "      <td>0</td>\n",
       "      <td>0</td>\n",
       "      <td>0</td>\n",
       "    </tr>\n",
       "    <tr>\n",
       "      <th>7SK</th>\n",
       "      <td>0</td>\n",
       "      <td>0</td>\n",
       "      <td>0</td>\n",
       "      <td>0</td>\n",
       "      <td>0</td>\n",
       "      <td>0</td>\n",
       "      <td>0</td>\n",
       "      <td>0</td>\n",
       "      <td>0</td>\n",
       "      <td>0</td>\n",
       "      <td>...</td>\n",
       "      <td>0</td>\n",
       "      <td>0</td>\n",
       "      <td>0</td>\n",
       "      <td>0</td>\n",
       "      <td>0</td>\n",
       "      <td>0</td>\n",
       "      <td>0</td>\n",
       "      <td>0</td>\n",
       "      <td>0</td>\n",
       "      <td>0</td>\n",
       "    </tr>\n",
       "    <tr>\n",
       "      <th>A1BG</th>\n",
       "      <td>0</td>\n",
       "      <td>0</td>\n",
       "      <td>0</td>\n",
       "      <td>0</td>\n",
       "      <td>0</td>\n",
       "      <td>0</td>\n",
       "      <td>0</td>\n",
       "      <td>0</td>\n",
       "      <td>0</td>\n",
       "      <td>0</td>\n",
       "      <td>...</td>\n",
       "      <td>0</td>\n",
       "      <td>0</td>\n",
       "      <td>0</td>\n",
       "      <td>0</td>\n",
       "      <td>0</td>\n",
       "      <td>0</td>\n",
       "      <td>0</td>\n",
       "      <td>0</td>\n",
       "      <td>0</td>\n",
       "      <td>0</td>\n",
       "    </tr>\n",
       "    <tr>\n",
       "      <th>A1BG-AS1</th>\n",
       "      <td>0</td>\n",
       "      <td>0</td>\n",
       "      <td>0</td>\n",
       "      <td>0</td>\n",
       "      <td>1</td>\n",
       "      <td>0</td>\n",
       "      <td>2</td>\n",
       "      <td>0</td>\n",
       "      <td>0</td>\n",
       "      <td>0</td>\n",
       "      <td>...</td>\n",
       "      <td>0</td>\n",
       "      <td>0</td>\n",
       "      <td>0</td>\n",
       "      <td>0</td>\n",
       "      <td>0</td>\n",
       "      <td>0</td>\n",
       "      <td>0</td>\n",
       "      <td>0</td>\n",
       "      <td>0</td>\n",
       "      <td>0</td>\n",
       "    </tr>\n",
       "  </tbody>\n",
       "</table>\n",
       "<p>5 rows × 6300 columns</p>\n",
       "</div>"
      ],
      "text/plain": [
       "           group1_0000  group1_0001  group1_0002  group1_0003  group1_0004  \\\n",
       "5S_rRNA              0            0            0            0            0   \n",
       "5_8S_rRNA            0            0            0            0            0   \n",
       "7SK                  0            0            0            0            0   \n",
       "A1BG                 0            0            0            0            0   \n",
       "A1BG-AS1             0            0            0            0            1   \n",
       "\n",
       "           group1_0005  group1_0006  group1_0007  group1_0008  group1_0009  \\\n",
       "5S_rRNA              0            0            0            0            0   \n",
       "5_8S_rRNA            0            0            0            0            0   \n",
       "7SK                  0            0            0            0            0   \n",
       "A1BG                 0            0            0            0            0   \n",
       "A1BG-AS1             0            2            0            0            0   \n",
       "\n",
       "              ...       group8_0790  group8_0791  group8_0792  group8_0793  \\\n",
       "5S_rRNA       ...                 0            0            0            0   \n",
       "5_8S_rRNA     ...                 0            0            0            0   \n",
       "7SK           ...                 0            0            0            0   \n",
       "A1BG          ...                 0            0            0            0   \n",
       "A1BG-AS1      ...                 0            0            0            0   \n",
       "\n",
       "           group8_0794  group8_0795  group8_0796  group8_0797  group8_0798  \\\n",
       "5S_rRNA              0            0            0            0            0   \n",
       "5_8S_rRNA            0            0            0            0            0   \n",
       "7SK                  0            0            0            0            0   \n",
       "A1BG                 0            0            0            0            0   \n",
       "A1BG-AS1             0            0            0            0            0   \n",
       "\n",
       "           group8_0799  \n",
       "5S_rRNA              0  \n",
       "5_8S_rRNA            0  \n",
       "7SK                  0  \n",
       "A1BG                 0  \n",
       "A1BG-AS1             0  \n",
       "\n",
       "[5 rows x 6300 columns]"
      ]
     },
     "execution_count": 18,
     "metadata": {},
     "output_type": "execute_result"
    }
   ],
   "source": [
    "counts.head()"
   ]
  },
  {
   "cell_type": "code",
   "execution_count": 70,
   "metadata": {},
   "outputs": [
    {
     "data": {
      "text/plain": [
       "5S_rRNA      True\n",
       "5_8S_rRNA    True\n",
       "7SK          True\n",
       "A1BG         True\n",
       "A1BG-AS1     True\n",
       "dtype: bool"
      ]
     },
     "execution_count": 70,
     "metadata": {},
     "output_type": "execute_result"
    }
   ],
   "source": [
    "(counts.head() >= 0).any(axis=1)"
   ]
  },
  {
   "cell_type": "code",
   "execution_count": 71,
   "metadata": {},
   "outputs": [
    {
     "name": "stdout",
     "output_type": "stream",
     "text": [
      "58828\n"
     ]
    }
   ],
   "source": [
    "genes_all_zeros = (counts >= 0).any(axis=1)\n",
    "print(genes_all_zeros.sum())"
   ]
  },
  {
   "cell_type": "markdown",
   "metadata": {},
   "source": [
    "## Make gene metadata"
   ]
  },
  {
   "cell_type": "code",
   "execution_count": 7,
   "metadata": {},
   "outputs": [
    {
     "ename": "NameError",
     "evalue": "name 'counts' is not defined",
     "output_type": "error",
     "traceback": [
      "\u001b[0;31m---------------------------------------------------------------------------\u001b[0m",
      "\u001b[0;31mNameError\u001b[0m                                 Traceback (most recent call last)",
      "\u001b[0;32m<ipython-input-7-f8b6e47f6c07>\u001b[0m in \u001b[0;36m<module>\u001b[0;34m()\u001b[0m\n\u001b[0;32m----> 1\u001b[0;31m \u001b[0mgenes_metadata\u001b[0m \u001b[0;34m=\u001b[0m \u001b[0mcounts\u001b[0m\u001b[0;34m.\u001b[0m\u001b[0mindex\u001b[0m\u001b[0;34m.\u001b[0m\u001b[0mto_frame\u001b[0m\u001b[0;34m(\u001b[0m\u001b[0;34m)\u001b[0m\u001b[0;34m\u001b[0m\u001b[0m\n\u001b[0m\u001b[1;32m      2\u001b[0m \u001b[0mgenes_metadata\u001b[0m\u001b[0;34m.\u001b[0m\u001b[0mindex\u001b[0m \u001b[0;34m=\u001b[0m \u001b[0mgenes_metadata\u001b[0m\u001b[0;34m.\u001b[0m\u001b[0mindex\u001b[0m\u001b[0;34m.\u001b[0m\u001b[0mdroplevel\u001b[0m\u001b[0;34m(\u001b[0m\u001b[0;34m-\u001b[0m\u001b[0;36m1\u001b[0m\u001b[0;34m)\u001b[0m\u001b[0;34m\u001b[0m\u001b[0m\n\u001b[1;32m      3\u001b[0m \u001b[0mgenes_metadata\u001b[0m \u001b[0;34m=\u001b[0m \u001b[0mgenes_metadata\u001b[0m\u001b[0;34m.\u001b[0m\u001b[0mdrop\u001b[0m\u001b[0;34m(\u001b[0m\u001b[0;36m0\u001b[0m\u001b[0;34m,\u001b[0m \u001b[0maxis\u001b[0m\u001b[0;34m=\u001b[0m\u001b[0;36m1\u001b[0m\u001b[0;34m)\u001b[0m\u001b[0;34m\u001b[0m\u001b[0m\n\u001b[1;32m      4\u001b[0m \u001b[0mprint\u001b[0m\u001b[0;34m(\u001b[0m\u001b[0mgenes_metadata\u001b[0m\u001b[0;34m.\u001b[0m\u001b[0mshape\u001b[0m\u001b[0;34m)\u001b[0m\u001b[0;34m\u001b[0m\u001b[0m\n\u001b[1;32m      5\u001b[0m \u001b[0mgenes_metadata\u001b[0m\u001b[0;34m.\u001b[0m\u001b[0mindex\u001b[0m\u001b[0;34m.\u001b[0m\u001b[0mname\u001b[0m \u001b[0;34m=\u001b[0m \u001b[0;34m'gene'\u001b[0m\u001b[0;34m\u001b[0m\u001b[0m\n",
      "\u001b[0;31mNameError\u001b[0m: name 'counts' is not defined"
     ]
    }
   ],
   "source": [
    "genes_metadata = counts.index.to_frame()\n",
    "genes_metadata.index = genes_metadata.index.droplevel(-1)\n",
    "genes_metadata = genes_metadata.drop(0, axis=1)\n",
    "print(genes_metadata.shape)\n",
    "genes_metadata.index.name = 'gene'\n",
    "genes_metadata = genes_metadata.rename(columns={1:'symbol'})\n",
    "genes_metadata.head()"
   ]
  },
  {
   "cell_type": "code",
   "execution_count": null,
   "metadata": {
    "collapsed": true
   },
   "outputs": [],
   "source": [
    "genes_metadata.groupby('symbol').size()"
   ]
  },
  {
   "cell_type": "code",
   "execution_count": null,
   "metadata": {
    "collapsed": true
   },
   "outputs": [],
   "source": [
    "counts.index = genes_metadata.index\n",
    "print(counts.shape)\n",
    "counts.head()"
   ]
  },
  {
   "cell_type": "code",
   "execution_count": null,
   "metadata": {
    "collapsed": true
   },
   "outputs": [],
   "source": [
    "counts.tail()"
   ]
  },
  {
   "cell_type": "markdown",
   "metadata": {},
   "source": [
    "## Make cell metadata"
   ]
  },
  {
   "cell_type": "code",
   "execution_count": 37,
   "metadata": {},
   "outputs": [
    {
     "data": {
      "text/html": [
       "<div>\n",
       "<style>\n",
       "    .dataframe thead tr:only-child th {\n",
       "        text-align: right;\n",
       "    }\n",
       "\n",
       "    .dataframe thead th {\n",
       "        text-align: left;\n",
       "    }\n",
       "\n",
       "    .dataframe tbody tr th {\n",
       "        vertical-align: top;\n",
       "    }\n",
       "</style>\n",
       "<table border=\"1\" class=\"dataframe\">\n",
       "  <thead>\n",
       "    <tr style=\"text-align: right;\">\n",
       "      <th></th>\n",
       "      <th>group</th>\n",
       "    </tr>\n",
       "  </thead>\n",
       "  <tbody>\n",
       "    <tr>\n",
       "      <th>group1_0000</th>\n",
       "      <td>group1</td>\n",
       "    </tr>\n",
       "    <tr>\n",
       "      <th>group1_0001</th>\n",
       "      <td>group1</td>\n",
       "    </tr>\n",
       "    <tr>\n",
       "      <th>group1_0002</th>\n",
       "      <td>group1</td>\n",
       "    </tr>\n",
       "    <tr>\n",
       "      <th>group1_0003</th>\n",
       "      <td>group1</td>\n",
       "    </tr>\n",
       "    <tr>\n",
       "      <th>group1_0004</th>\n",
       "      <td>group1</td>\n",
       "    </tr>\n",
       "  </tbody>\n",
       "</table>\n",
       "</div>"
      ],
      "text/plain": [
       "              group\n",
       "group1_0000  group1\n",
       "group1_0001  group1\n",
       "group1_0002  group1\n",
       "group1_0003  group1\n",
       "group1_0004  group1"
      ]
     },
     "execution_count": 37,
     "metadata": {},
     "output_type": "execute_result"
    }
   ],
   "source": [
    "cell_metadata = pd.DataFrame(index=counts.columns)\n",
    "cell_metadata['group'] = [x.split('_')[0] for x in cell_metadata.index]\n",
    "cell_metadata.head()"
   ]
  },
  {
   "cell_type": "markdown",
   "metadata": {},
   "source": [
    "### Add cell number"
   ]
  },
  {
   "cell_type": "code",
   "execution_count": 38,
   "metadata": {},
   "outputs": [
    {
     "name": "stdout",
     "output_type": "stream",
     "text": [
      "(13300, 2)\n"
     ]
    },
    {
     "data": {
      "text/html": [
       "<div>\n",
       "<style>\n",
       "    .dataframe thead tr:only-child th {\n",
       "        text-align: right;\n",
       "    }\n",
       "\n",
       "    .dataframe thead th {\n",
       "        text-align: left;\n",
       "    }\n",
       "\n",
       "    .dataframe tbody tr th {\n",
       "        vertical-align: top;\n",
       "    }\n",
       "</style>\n",
       "<table border=\"1\" class=\"dataframe\">\n",
       "  <thead>\n",
       "    <tr style=\"text-align: right;\">\n",
       "      <th></th>\n",
       "      <th>group</th>\n",
       "      <th>cell_number</th>\n",
       "    </tr>\n",
       "  </thead>\n",
       "  <tbody>\n",
       "    <tr>\n",
       "      <th>group1_0000</th>\n",
       "      <td>group1</td>\n",
       "      <td>c1</td>\n",
       "    </tr>\n",
       "    <tr>\n",
       "      <th>group1_0001</th>\n",
       "      <td>group1</td>\n",
       "      <td>c2</td>\n",
       "    </tr>\n",
       "    <tr>\n",
       "      <th>group1_0002</th>\n",
       "      <td>group1</td>\n",
       "      <td>c3</td>\n",
       "    </tr>\n",
       "    <tr>\n",
       "      <th>group1_0003</th>\n",
       "      <td>group1</td>\n",
       "      <td>c4</td>\n",
       "    </tr>\n",
       "    <tr>\n",
       "      <th>group1_0004</th>\n",
       "      <td>group1</td>\n",
       "      <td>c5</td>\n",
       "    </tr>\n",
       "  </tbody>\n",
       "</table>\n",
       "</div>"
      ],
      "text/plain": [
       "              group cell_number\n",
       "group1_0000  group1          c1\n",
       "group1_0001  group1          c2\n",
       "group1_0002  group1          c3\n",
       "group1_0003  group1          c4\n",
       "group1_0004  group1          c5"
      ]
     },
     "execution_count": 38,
     "metadata": {},
     "output_type": "execute_result"
    }
   ],
   "source": [
    "cell_metadata['cell_number'] = [f'c{i+1}' for i in range(len(cell_metadata.index))]\n",
    "print(cell_metadata.shape)\n",
    "cell_metadata.head()"
   ]
  },
  {
   "cell_type": "code",
   "execution_count": 39,
   "metadata": {},
   "outputs": [
    {
     "data": {
      "text/html": [
       "<div>\n",
       "<style>\n",
       "    .dataframe thead tr:only-child th {\n",
       "        text-align: right;\n",
       "    }\n",
       "\n",
       "    .dataframe thead th {\n",
       "        text-align: left;\n",
       "    }\n",
       "\n",
       "    .dataframe tbody tr th {\n",
       "        vertical-align: top;\n",
       "    }\n",
       "</style>\n",
       "<table border=\"1\" class=\"dataframe\">\n",
       "  <thead>\n",
       "    <tr style=\"text-align: right;\">\n",
       "      <th></th>\n",
       "      <th>group</th>\n",
       "      <th>cell_number</th>\n",
       "    </tr>\n",
       "  </thead>\n",
       "  <tbody>\n",
       "    <tr>\n",
       "      <th>group8_0795</th>\n",
       "      <td>group8</td>\n",
       "      <td>c13296</td>\n",
       "    </tr>\n",
       "    <tr>\n",
       "      <th>group8_0796</th>\n",
       "      <td>group8</td>\n",
       "      <td>c13297</td>\n",
       "    </tr>\n",
       "    <tr>\n",
       "      <th>group8_0797</th>\n",
       "      <td>group8</td>\n",
       "      <td>c13298</td>\n",
       "    </tr>\n",
       "    <tr>\n",
       "      <th>group8_0798</th>\n",
       "      <td>group8</td>\n",
       "      <td>c13299</td>\n",
       "    </tr>\n",
       "    <tr>\n",
       "      <th>group8_0799</th>\n",
       "      <td>group8</td>\n",
       "      <td>c13300</td>\n",
       "    </tr>\n",
       "  </tbody>\n",
       "</table>\n",
       "</div>"
      ],
      "text/plain": [
       "              group cell_number\n",
       "group8_0795  group8      c13296\n",
       "group8_0796  group8      c13297\n",
       "group8_0797  group8      c13298\n",
       "group8_0798  group8      c13299\n",
       "group8_0799  group8      c13300"
      ]
     },
     "execution_count": 39,
     "metadata": {},
     "output_type": "execute_result"
    }
   ],
   "source": [
    "cell_metadata.tail()"
   ]
  },
  {
   "cell_type": "markdown",
   "metadata": {},
   "source": [
    "### Add permuted group name for negative controL"
   ]
  },
  {
   "cell_type": "code",
   "execution_count": 43,
   "metadata": {},
   "outputs": [
    {
     "data": {
      "text/html": [
       "<div>\n",
       "<style>\n",
       "    .dataframe thead tr:only-child th {\n",
       "        text-align: right;\n",
       "    }\n",
       "\n",
       "    .dataframe thead th {\n",
       "        text-align: left;\n",
       "    }\n",
       "\n",
       "    .dataframe tbody tr th {\n",
       "        vertical-align: top;\n",
       "    }\n",
       "</style>\n",
       "<table border=\"1\" class=\"dataframe\">\n",
       "  <thead>\n",
       "    <tr style=\"text-align: right;\">\n",
       "      <th></th>\n",
       "      <th>group</th>\n",
       "      <th>cell_number</th>\n",
       "      <th>group_permuted</th>\n",
       "    </tr>\n",
       "  </thead>\n",
       "  <tbody>\n",
       "    <tr>\n",
       "      <th>group1_0000</th>\n",
       "      <td>group1</td>\n",
       "      <td>c1</td>\n",
       "      <td>group3</td>\n",
       "    </tr>\n",
       "    <tr>\n",
       "      <th>group1_0001</th>\n",
       "      <td>group1</td>\n",
       "      <td>c2</td>\n",
       "      <td>group3</td>\n",
       "    </tr>\n",
       "    <tr>\n",
       "      <th>group1_0002</th>\n",
       "      <td>group1</td>\n",
       "      <td>c3</td>\n",
       "      <td>group2</td>\n",
       "    </tr>\n",
       "    <tr>\n",
       "      <th>group1_0003</th>\n",
       "      <td>group1</td>\n",
       "      <td>c4</td>\n",
       "      <td>group3</td>\n",
       "    </tr>\n",
       "    <tr>\n",
       "      <th>group1_0004</th>\n",
       "      <td>group1</td>\n",
       "      <td>c5</td>\n",
       "      <td>group3</td>\n",
       "    </tr>\n",
       "  </tbody>\n",
       "</table>\n",
       "</div>"
      ],
      "text/plain": [
       "              group cell_number group_permuted\n",
       "group1_0000  group1          c1         group3\n",
       "group1_0001  group1          c2         group3\n",
       "group1_0002  group1          c3         group2\n",
       "group1_0003  group1          c4         group3\n",
       "group1_0004  group1          c5         group3"
      ]
     },
     "execution_count": 43,
     "metadata": {},
     "output_type": "execute_result"
    }
   ],
   "source": [
    "np.random.seed(0)\n",
    "\n",
    "cell_metadata['group_permuted'] = np.random.permutation(cell_metadata['group'])\n",
    "cell_metadata.head()"
   ]
  },
  {
   "cell_type": "code",
   "execution_count": 51,
   "metadata": {
    "collapsed": true
   },
   "outputs": [],
   "source": [
    "cell_metadata.to_dict?"
   ]
  },
  {
   "cell_type": "code",
   "execution_count": 54,
   "metadata": {},
   "outputs": [
    {
     "data": {
      "text/plain": [
       "{'cell_number': ['c1', 'c2', 'c3', 'c4', 'c5'],\n",
       " 'group': ['group1', 'group1', 'group1', 'group1', 'group1'],\n",
       " 'group_permuted': ['group3', 'group3', 'group2', 'group3', 'group3']}"
      ]
     },
     "execution_count": 54,
     "metadata": {},
     "output_type": "execute_result"
    }
   ],
   "source": [
    "d = cell_metadata.head().to_dict(orient='list')\n",
    "d"
   ]
  },
  {
   "cell_type": "markdown",
   "metadata": {},
   "source": [
    "## Add metadata as \"coordinates\" for slicing"
   ]
  },
  {
   "cell_type": "code",
   "execution_count": 56,
   "metadata": {},
   "outputs": [
    {
     "data": {
      "text/plain": [
       "{'cell_number': ('cell', ['c1', 'c2', 'c3', 'c4', 'c5']),\n",
       " 'group': ('cell', ['group1', 'group1', 'group1', 'group1', 'group1']),\n",
       " 'group_permuted': ('cell',\n",
       "  ['group3', 'group3', 'group2', 'group3', 'group3'])}"
      ]
     },
     "execution_count": 56,
     "metadata": {},
     "output_type": "execute_result"
    }
   ],
   "source": [
    "coords = {k: ('cell', v) for k, v in d.items()}\n",
    "coords"
   ]
  },
  {
   "cell_type": "code",
   "execution_count": 57,
   "metadata": {},
   "outputs": [
    {
     "name": "stdout",
     "output_type": "stream",
     "text": [
      "dict_keys(['group', 'cell_number', 'group_permuted', 'gene', 'cell'])\n"
     ]
    }
   ],
   "source": [
    "cell_metadata_dict = cell_metadata.to_dict(orient='list')\n",
    "coords = {k: ('cell', v) for k, v in cell_metadata_dict.items()}\n",
    "coords.update(dict(gene=counts.index, cell=counts.columns))\n",
    "print(coords.keys())"
   ]
  },
  {
   "cell_type": "code",
   "execution_count": 74,
   "metadata": {},
   "outputs": [
    {
     "data": {
      "text/plain": [
       "<xarray.Dataset>\n",
       "Dimensions:        (cell: 13300, cell_metadata: 3, gene: 58828)\n",
       "Coordinates:\n",
       "  * gene           (gene) object '5S_rRNA' '5_8S_rRNA' '7SK' 'A1BG' ...\n",
       "  * cell           (cell) object 'group1_0000' 'group1_0001' 'group1_0002' ...\n",
       "  * cell_metadata  (cell_metadata) object 'group' 'cell_number' 'group_permuted'\n",
       "Data variables:\n",
       "    counts         (cell, gene) int64 0 0 0 0 0 0 0 0 0 0 0 0 0 0 0 0 0 0 0 ..."
      ]
     },
     "execution_count": 74,
     "metadata": {},
     "output_type": "execute_result"
    }
   ],
   "source": [
    "ds = xr.Dataset(\n",
    "    {'counts': (['cell', 'gene'], counts.T),\n",
    "#      'gene_metadata': (['gene', 'gene_feature'], genes_metadata),\n",
    "#      'cell_metadata': (['cell', 'cell_feature'], cell_metadata)\n",
    "    },\n",
    "    coords=coords)\n",
    "#        coords={'gene': counts.index, \n",
    "#                'cell': counts.columns, \n",
    "# #                'gene_feature': genes_metadata.columns,\n",
    "#                'cell': cell_metadata.columns})\n",
    "ds"
   ]
  },
  {
   "cell_type": "code",
   "execution_count": 75,
   "metadata": {},
   "outputs": [
    {
     "name": "stdout",
     "output_type": "stream",
     "text": [
      "CPU times: user 1.38 s, sys: 3.42 s, total: 4.8 s\n",
      "Wall time: 6.08 s\n"
     ]
    }
   ],
   "source": [
    "%%time\n",
    "\n",
    "netcdf = os.path.join(data_folder, 'cshl-fibroblast.netcdf')\n",
    "ds.to_netcdf(netcdf)"
   ]
  },
  {
   "cell_type": "code",
   "execution_count": 76,
   "metadata": {},
   "outputs": [
    {
     "name": "stdout",
     "output_type": "stream",
     "text": [
      "-rw-r--r--  1 olgabot  staff   5.8G Sep 29 17:16 ../00_data/003_make_combined_singlecell_fibroblast_datasets/cshl-fibroblast.netcdf\r\n"
     ]
    }
   ],
   "source": [
    "ls -lha $netcdf"
   ]
  },
  {
   "cell_type": "code",
   "execution_count": null,
   "metadata": {
    "collapsed": true
   },
   "outputs": [],
   "source": []
  }
 ],
 "metadata": {
  "kernelspec": {
   "display_name": "Python 3 (cshl-sca-2017)",
   "language": "python",
   "name": "cshl-sca-2017"
  },
  "language_info": {
   "codemirror_mode": {
    "name": "ipython",
    "version": 3
   },
   "file_extension": ".py",
   "mimetype": "text/x-python",
   "name": "python",
   "nbconvert_exporter": "python",
   "pygments_lexer": "ipython3",
   "version": "3.6.1"
  }
 },
 "nbformat": 4,
 "nbformat_minor": 2
}
